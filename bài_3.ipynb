{
  "nbformat": 4,
  "nbformat_minor": 0,
  "metadata": {
    "colab": {
      "name": "bài 3.ipynb",
      "provenance": [],
      "authorship_tag": "ABX9TyNnP9L7UpB0p12UipghWfOK",
      "include_colab_link": true
    },
    "kernelspec": {
      "name": "python3",
      "display_name": "Python 3"
    },
    "language_info": {
      "name": "python"
    }
  },
  "cells": [
    {
      "cell_type": "markdown",
      "metadata": {
        "id": "view-in-github",
        "colab_type": "text"
      },
      "source": [
        "<a href=\"https://colab.research.google.com/github/GiaBach12/Thuchanhtoancc/blob/main/ba%CC%80i_3.ipynb\" target=\"_parent\"><img src=\"https://colab.research.google.com/assets/colab-badge.svg\" alt=\"Open In Colab\"/></a>"
      ]
    },
    {
      "cell_type": "markdown",
      "source": [
        "# Bài 3 : ĐẠO HÀM VÀ ỨNG DỤNG \n"
      ],
      "metadata": {
        "id": "N9giKLDUSEGf"
      }
    },
    {
      "cell_type": "markdown",
      "source": [
        "#**Thực hành 1: Viết hàm từ dấu nhắc lệnh >>> của trình IDLE **"
      ],
      "metadata": {
        "id": "RaMNl6DyUZHP"
      }
    },
    {
      "cell_type": "code",
      "execution_count": 11,
      "metadata": {
        "colab": {
          "base_uri": "https://localhost:8080/"
        },
        "id": "jQSWD7ThPAO5",
        "outputId": "1a9e7456-a764-4a22-b1b7-555a2ec27df1"
      },
      "outputs": [
        {
          "output_type": "execute_result",
          "data": {
            "text/plain": [
              "2"
            ]
          },
          "metadata": {},
          "execution_count": 11
        }
      ],
      "source": [
        "def luythua(x,n):\n",
        "      ketqua = 1\n",
        "      for i in range(n):\n",
        "        ketqua = ketqua * x\n",
        "      return ketqua\n",
        "luythua(2,1)\n"
      ]
    },
    {
      "cell_type": "code",
      "source": [
        "def luythua(x,n):\n",
        "      ketqua = 1\n",
        "      for i in range(n):\n",
        "        ketqua = ketqua * x\n",
        "      return ketqua\n",
        "luythua(2,0)"
      ],
      "metadata": {
        "colab": {
          "base_uri": "https://localhost:8080/"
        },
        "id": "Wt2HfUsdSto7",
        "outputId": "25a4910d-a801-43ec-816e-c7fbfe12f098"
      },
      "execution_count": 12,
      "outputs": [
        {
          "output_type": "execute_result",
          "data": {
            "text/plain": [
              "1"
            ]
          },
          "metadata": {},
          "execution_count": 12
        }
      ]
    },
    {
      "cell_type": "markdown",
      "source": [
        "#**Thực hành 2: Lỗi và cơ chế bắt lỗi trong Python **"
      ],
      "metadata": {
        "id": "A86TtP-NUeBy"
      }
    },
    {
      "cell_type": "code",
      "source": [
        " while 1 = 2: \n"
      ],
      "metadata": {
        "colab": {
          "base_uri": "https://localhost:8080/",
          "height": 130
        },
        "id": "bBGW-5H3Uo9h",
        "outputId": "1e812442-c971-4ca8-ca3a-e682a28e1af7"
      },
      "execution_count": 13,
      "outputs": [
        {
          "output_type": "error",
          "ename": "SyntaxError",
          "evalue": "ignored",
          "traceback": [
            "\u001b[0;36m  File \u001b[0;32m\"<ipython-input-13-7c7a27450cf9>\"\u001b[0;36m, line \u001b[0;32m1\u001b[0m\n\u001b[0;31m    while 1 = 2:\u001b[0m\n\u001b[0m            ^\u001b[0m\n\u001b[0;31mSyntaxError\u001b[0m\u001b[0;31m:\u001b[0m invalid syntax\n"
          ]
        }
      ]
    },
    {
      "cell_type": "code",
      "source": [
        " 10 * (1/0) \n"
      ],
      "metadata": {
        "colab": {
          "base_uri": "https://localhost:8080/",
          "height": 165
        },
        "id": "lUj1uZW6UwoZ",
        "outputId": "aef16f66-0f0e-4225-c6c4-d2faab4ce888"
      },
      "execution_count": 14,
      "outputs": [
        {
          "output_type": "error",
          "ename": "ZeroDivisionError",
          "evalue": "ignored",
          "traceback": [
            "\u001b[0;31m---------------------------------------------------------------------------\u001b[0m",
            "\u001b[0;31mZeroDivisionError\u001b[0m                         Traceback (most recent call last)",
            "\u001b[0;32m<ipython-input-14-579c50ec8602>\u001b[0m in \u001b[0;36m<module>\u001b[0;34m()\u001b[0m\n\u001b[0;32m----> 1\u001b[0;31m \u001b[0;36m10\u001b[0m \u001b[0;34m*\u001b[0m \u001b[0;34m(\u001b[0m\u001b[0;36m1\u001b[0m\u001b[0;34m/\u001b[0m\u001b[0;36m0\u001b[0m\u001b[0;34m)\u001b[0m\u001b[0;34m\u001b[0m\u001b[0;34m\u001b[0m\u001b[0m\n\u001b[0m",
            "\u001b[0;31mZeroDivisionError\u001b[0m: division by zero"
          ]
        }
      ]
    },
    {
      "cell_type": "code",
      "source": [
        "3 * bien_chua_khai_bao / 4 "
      ],
      "metadata": {
        "colab": {
          "base_uri": "https://localhost:8080/",
          "height": 165
        },
        "id": "BLXBPp6sUzyq",
        "outputId": "f58b2e9a-f307-4e2e-8b64-03f8bd8af431"
      },
      "execution_count": 16,
      "outputs": [
        {
          "output_type": "error",
          "ename": "NameError",
          "evalue": "ignored",
          "traceback": [
            "\u001b[0;31m---------------------------------------------------------------------------\u001b[0m",
            "\u001b[0;31mNameError\u001b[0m                                 Traceback (most recent call last)",
            "\u001b[0;32m<ipython-input-16-1537de6f046e>\u001b[0m in \u001b[0;36m<module>\u001b[0;34m()\u001b[0m\n\u001b[0;32m----> 1\u001b[0;31m \u001b[0;36m3\u001b[0m \u001b[0;34m*\u001b[0m \u001b[0mbien_chua_khai_bao\u001b[0m \u001b[0;34m/\u001b[0m \u001b[0;36m4\u001b[0m\u001b[0;34m\u001b[0m\u001b[0;34m\u001b[0m\u001b[0m\n\u001b[0m",
            "\u001b[0;31mNameError\u001b[0m: name 'bien_chua_khai_bao' is not defined"
          ]
        }
      ]
    },
    {
      "cell_type": "code",
      "source": [
        "‘ba’ + 7 \n"
      ],
      "metadata": {
        "colab": {
          "base_uri": "https://localhost:8080/",
          "height": 130
        },
        "id": "jAoLJzBmU58C",
        "outputId": "7f3dbbd8-43bd-4b96-e169-677839a62aa7"
      },
      "execution_count": 18,
      "outputs": [
        {
          "output_type": "error",
          "ename": "SyntaxError",
          "evalue": "ignored",
          "traceback": [
            "\u001b[0;36m  File \u001b[0;32m\"<ipython-input-18-29b45f970bd0>\"\u001b[0;36m, line \u001b[0;32m1\u001b[0m\n\u001b[0;31m    ‘ba’ + 7\u001b[0m\n\u001b[0m       ^\u001b[0m\n\u001b[0;31mSyntaxError\u001b[0m\u001b[0;31m:\u001b[0m invalid character in identifier\n"
          ]
        }
      ]
    },
    {
      "cell_type": "code",
      "source": [
        "'ba' + (1/0) \n"
      ],
      "metadata": {
        "colab": {
          "base_uri": "https://localhost:8080/",
          "height": 165
        },
        "id": "5vZLBl5KU8AX",
        "outputId": "5047f7d7-5bc7-444d-eb6a-4f55759bf417"
      },
      "execution_count": 19,
      "outputs": [
        {
          "output_type": "error",
          "ename": "ZeroDivisionError",
          "evalue": "ignored",
          "traceback": [
            "\u001b[0;31m---------------------------------------------------------------------------\u001b[0m",
            "\u001b[0;31mZeroDivisionError\u001b[0m                         Traceback (most recent call last)",
            "\u001b[0;32m<ipython-input-19-9e51bb6188a2>\u001b[0m in \u001b[0;36m<module>\u001b[0;34m()\u001b[0m\n\u001b[0;32m----> 1\u001b[0;31m \u001b[0;34m'ba'\u001b[0m \u001b[0;34m+\u001b[0m \u001b[0;34m(\u001b[0m\u001b[0;36m1\u001b[0m\u001b[0;34m/\u001b[0m\u001b[0;36m0\u001b[0m\u001b[0;34m)\u001b[0m\u001b[0;34m\u001b[0m\u001b[0;34m\u001b[0m\u001b[0m\n\u001b[0m",
            "\u001b[0;31mZeroDivisionError\u001b[0m: division by zero"
          ]
        }
      ]
    },
    {
      "cell_type": "code",
      "source": [
        "'ba'+7+(1/0) "
      ],
      "metadata": {
        "colab": {
          "base_uri": "https://localhost:8080/",
          "height": 165
        },
        "id": "yLWNB_viVAaC",
        "outputId": "a78448a2-abad-4beb-ea78-e5f5b880a7ee"
      },
      "execution_count": 20,
      "outputs": [
        {
          "output_type": "error",
          "ename": "TypeError",
          "evalue": "ignored",
          "traceback": [
            "\u001b[0;31m---------------------------------------------------------------------------\u001b[0m",
            "\u001b[0;31mTypeError\u001b[0m                                 Traceback (most recent call last)",
            "\u001b[0;32m<ipython-input-20-47abd1c64ab1>\u001b[0m in \u001b[0;36m<module>\u001b[0;34m()\u001b[0m\n\u001b[0;32m----> 1\u001b[0;31m \u001b[0;34m'ba'\u001b[0m\u001b[0;34m+\u001b[0m\u001b[0;36m7\u001b[0m\u001b[0;34m+\u001b[0m\u001b[0;34m(\u001b[0m\u001b[0;36m1\u001b[0m\u001b[0;34m/\u001b[0m\u001b[0;36m0\u001b[0m\u001b[0;34m)\u001b[0m\u001b[0;34m\u001b[0m\u001b[0;34m\u001b[0m\u001b[0m\n\u001b[0m",
            "\u001b[0;31mTypeError\u001b[0m: can only concatenate str (not \"int\") to str"
          ]
        }
      ]
    },
    {
      "cell_type": "markdown",
      "source": [
        "#**Thực hành 3: Xử lý ngoại lệ với cơ chế try… except **\n"
      ],
      "metadata": {
        "id": "obwMhoDlVQ_n"
      }
    },
    {
      "cell_type": "code",
      "source": [
        "while True:\n",
        "  try:\n",
        "    x = int(input(\"Vui long nhap so: \"))\n",
        "    break\n",
        "  except:\n",
        "    print(\"Vui long nhap so. Khong nhap chu!\")"
      ],
      "metadata": {
        "colab": {
          "base_uri": "https://localhost:8080/"
        },
        "id": "Gko5Ha6TVBC-",
        "outputId": "e2c664ec-1d1d-4bf7-ab95-379fce52c7cd"
      },
      "execution_count": 23,
      "outputs": [
        {
          "name": "stdout",
          "output_type": "stream",
          "text": [
            "Vui long nhap so: sdf\n",
            "Vui long nhap so. Khong nhap chu!\n",
            "Vui long nhap so: 2\n"
          ]
        }
      ]
    },
    {
      "cell_type": "markdown",
      "source": [
        "#**Thực hành 4: Xử lý ngoại lệ với cơ chế try… except… else… finally**"
      ],
      "metadata": {
        "id": "CnCUzPE8VXWA"
      }
    },
    {
      "cell_type": "code",
      "source": [
        "while True: \n",
        " try: \n",
        "  x = int(input('Vui long nhap so: ')) \n",
        " except: \n",
        "  print ('So vua nhap sai') \n",
        " else: \n",
        "  print ('so vua nhap la ' + str(x)) \n",
        "  break \n",
        " finally: \n",
        "  print ('Da hoan thanh chuong trinh') "
      ],
      "metadata": {
        "colab": {
          "base_uri": "https://localhost:8080/"
        },
        "id": "Z4mqeXjpVbBD",
        "outputId": "2a87c910-0116-4682-81db-64c4232ec06d"
      },
      "execution_count": 24,
      "outputs": [
        {
          "output_type": "stream",
          "name": "stdout",
          "text": [
            "Vui long nhap so: 21\n",
            "so vua nhap la 21\n",
            "Da hoan thanh chuong trinh\n"
          ]
        }
      ]
    },
    {
      "cell_type": "markdown",
      "source": [
        "#**Thực hành 5: Tạo hàm phát sinh dãy số thực đều **\n"
      ],
      "metadata": {
        "id": "GO0cPEzGVtuk"
      }
    },
    {
      "cell_type": "code",
      "source": [
        "def frange(batdau, ketthuc, buocnhay): \n",
        " day_ketqua = [] \n",
        " while batdau < ketthuc: \n",
        "   day_ketqua.append(batdau) \n",
        "   batdau = batdau + buocnhay \n",
        " return day_ketqua \n"
      ],
      "metadata": {
        "id": "oIa66QEAVyOD"
      },
      "execution_count": 25,
      "outputs": []
    },
    {
      "cell_type": "markdown",
      "source": [
        "#**Thực hành 6: Vẽ quỹ đạo bay của vật được ném lên**"
      ],
      "metadata": {
        "id": "5A2dom0jXYPJ"
      }
    },
    {
      "cell_type": "markdown",
      "source": [
        "**+ Hàm 1: Hàm vẽ đồ thị **"
      ],
      "metadata": {
        "id": "fNkSjMytXjfM"
      }
    },
    {
      "cell_type": "code",
      "source": [
        " from matplotlib import pyplot as plt \n",
        " import math \n",
        " def draw_graph(x, y): \n",
        "  plt.plot(x, y) \n",
        "  plt.xlabel('Truc X') \n",
        "  plt.ylabel('Truc Y') \n",
        "  plt.title('Do thi bai toan nem qua bong')"
      ],
      "metadata": {
        "id": "yP2VMIj9XbRE"
      },
      "execution_count": 28,
      "outputs": []
    },
    {
      "cell_type": "markdown",
      "source": [
        "**+ Hàm 2: Hàm xử lý về tạo các khoảng số thực đều nhau **\n"
      ],
      "metadata": {
        "id": "FXhcPkH1Xx2Y"
      }
    },
    {
      "cell_type": "code",
      "source": [
        "def frange(start, final, interval): \n",
        " numbers = [] \n",
        " while start < final: \n",
        "  numbers.append(start) \n",
        "  start = start + interval \n",
        " return numbers "
      ],
      "metadata": {
        "id": "Bb_PxaGGX0qk"
      },
      "execution_count": 39,
      "outputs": []
    },
    {
      "cell_type": "markdown",
      "source": [
        "**+ Hàm 3: Hàm tính toán các dãy X và Y để vẽ đồ thị tương ứng với hàm đạn đạo: **"
      ],
      "metadata": {
        "id": "mqZCIYjCX6FU"
      }
    },
    {
      "cell_type": "code",
      "source": [
        " def draw_trajectory(u, theta): \n",
        " # Gia toc trong truong \n",
        "  g = 9.8 \n",
        " # Goc bay: \n",
        "  theta = math.radians(theta) \n",
        " # Thoi gian bay: \n",
        "  t_flight = 2*u*math.sin(theta)/g \n",
        " # Tinh toan khoang cach thoi gian \n",
        "  intervals = frange(0, t_flight, 0.001) \n",
        " # Danh sach toa do x va y \n",
        "  x = [] \n",
        "  y = [] \n",
        "  for t in intervals: \n",
        "   x.append(u*math.cos(theta)*t) \n",
        "   y.append(u*math.sin(theta)*t - 0.5*g*t*t) \n",
        "  draw_graph(x, y)"
      ],
      "metadata": {
        "id": "EF2Ll2qAX7Sm"
      },
      "execution_count": 44,
      "outputs": []
    },
    {
      "cell_type": "code",
      "source": [
        "if __name__ == '__main__':\n",
        " try: \n",
        "   u = float(input('Nhap van toc ban dau (m/s): ')) \n",
        "   theta = float(input('Nhap goc bay (degrees): ')) \n",
        " except ValueError: \n",
        "    print (' Nhap cac gia tri sai! ') \n",
        " else: \n",
        "    draw_trajectory(u, theta) \n",
        "    plt.show() \n",
        " finally: \n",
        "    print ('Hoan thanh chuong trinh!') \n"
      ],
      "metadata": {
        "colab": {
          "base_uri": "https://localhost:8080/",
          "height": 347
        },
        "id": "5AcRaDarZg1J",
        "outputId": "64b2b841-6b8d-4488-b41c-ba1286ee0628"
      },
      "execution_count": 45,
      "outputs": [
        {
          "name": "stdout",
          "output_type": "stream",
          "text": [
            "Nhap van toc ban dau (m/s): 12\n",
            "Nhap goc bay (degrees): 45\n"
          ]
        },
        {
          "output_type": "display_data",
          "data": {
            "image/png": "[encoded data removed]",
            "text/plain": [
              "<Figure size 432x288 with 1 Axes>"
            ]
          },
          "metadata": {
            "needs_background": "light"
          }
        },
        {
          "output_type": "stream",
          "name": "stdout",
          "text": [
            "Hoan thanh chuong trinh!\n"
          ]
        }
      ]
    },
    {
      "cell_type": "code",
      "source": [
        " from matplotlib import pyplot as plt \n",
        " import math \n",
        " def draw_graph(x, y): \n",
        "  plt.plot(x, y) \n",
        "  plt.xlabel('Truc X') \n",
        "  plt.ylabel('Truc Y') \n",
        "  plt.title('Do thi bai toan nem qua bong')\n",
        "  def frange(start, final, interval): \n",
        "   numbers = [] \n",
        "   while start < final: \n",
        "    numbers.append(start) \n",
        "    start = start + interval \n",
        "   return numbers \n",
        " def draw_trajectory(u, theta): \n",
        " # Gia toc trong truong \n",
        "  g = 9.8 \n",
        " # Goc bay: \n",
        "  theta = math.radians(theta) \n",
        " # Thoi gian bay: \n",
        "  t_flight = 2*u*math.sin(theta)/g \n",
        " # Tinh toan khoang cach thoi gian \n",
        "  intervals = frange(0, t_flight, 0.001) \n",
        " # Danh sach toa do x va y \n",
        "  x = [] \n",
        "  y = [] \n",
        "  for t in intervals: \n",
        "   x.append(u*math.cos(theta)*t) \n",
        "   y.append(u*math.sin(theta)*t - 0.5*g*t*t) \n",
        "  draw_graph(x, y)\n",
        "  if __name__ == '__main__':\n",
        "   try: \n",
        "    u = float(input('Nhap van toc ban dau (m/s): ')) \n",
        "    theta = float(input('Nhap goc bay (degrees): ')) \n",
        "   except ValueError: \n",
        "    print (' Nhap cac gia tri sai! ') \n",
        "   else: \n",
        "     draw_trajectory(u, theta) \n",
        "     plt.show() \n",
        "   finally: \n",
        "     print ('Hoan thanh chuong trinh!') \n"
      ],
      "metadata": {
        "id": "cOEi-fvKYJjn"
      },
      "execution_count": 53,
      "outputs": []
    },
    {
      "cell_type": "markdown",
      "source": [
        "#**Thực hành 7: Vẽ nhiều quỹ đạo trên cùng một đồ thị**"
      ],
      "metadata": {
        "id": "NQBCU5lParIT"
      }
    }
  ]
}