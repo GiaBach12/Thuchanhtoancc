{
  "nbformat": 4,
  "nbformat_minor": 0,
  "metadata": {
    "colab": {
      "name": "bài 3.ipynb",
      "provenance": [],
      "authorship_tag": "ABX9TyPYQTYGJ4dJa/sU5qSaZgBw",
      "include_colab_link": true
    },
    "kernelspec": {
      "name": "python3",
      "display_name": "Python 3"
    },
    "language_info": {
      "name": "python"
    }
  },
  "cells": [
    {
      "cell_type": "markdown",
      "metadata": {
        "id": "view-in-github",
        "colab_type": "text"
      },
      "source": [
        "<a href=\"https://colab.research.google.com/github/GiaBach12/Thuchanhtoancc/blob/main/ba%CC%80i_3.ipynb\" target=\"_parent\"><img src=\"https://colab.research.google.com/assets/colab-badge.svg\" alt=\"Open In Colab\"/></a>"
      ]
    },
    {
      "cell_type": "markdown",
      "source": [
        "# Bài 3 : ĐẠO HÀM VÀ ỨNG DỤNG \n"
      ],
      "metadata": {
        "id": "N9giKLDUSEGf"
      }
    },
    {
      "cell_type": "markdown",
      "source": [
        "#**Thực hành 1: Viết hàm từ dấu nhắc lệnh >>> của trình IDLE **"
      ],
      "metadata": {
        "id": "RaMNl6DyUZHP"
      }
    },
    {
      "cell_type": "code",
      "execution_count": 81,
      "metadata": {
        "colab": {
          "base_uri": "https://localhost:8080/"
        },
        "id": "jQSWD7ThPAO5",
        "outputId": "46803629-9482-40ee-be60-f4c57dd01e4c"
      },
      "outputs": [
        {
          "output_type": "execute_result",
          "data": {
            "text/plain": [
              "2"
            ]
          },
          "metadata": {},
          "execution_count": 81
        }
      ],
      "source": [
        "def luythua(x,n):\n",
        "      ketqua = 1\n",
        "      for i in range(n):\n",
        "        ketqua = ketqua * x\n",
        "      return ketqua\n",
        "luythua(2,1)\n"
      ]
    },
    {
      "cell_type": "code",
      "source": [
        "def luythua(x,n):\n",
        "      ketqua = 1\n",
        "      for i in range(n):\n",
        "        ketqua = ketqua * x\n",
        "      return ketqua\n",
        "luythua(2,0)"
      ],
      "metadata": {
        "colab": {
          "base_uri": "https://localhost:8080/"
        },
        "id": "Wt2HfUsdSto7",
        "outputId": "98a5c2c2-1e12-4b4d-f8ce-d6eaec693b8e"
      },
      "execution_count": 82,
      "outputs": [
        {
          "output_type": "execute_result",
          "data": {
            "text/plain": [
              "1"
            ]
          },
          "metadata": {},
          "execution_count": 82
        }
      ]
    },
    {
      "cell_type": "markdown",
      "source": [
        "#**Thực hành 2: Lỗi và cơ chế bắt lỗi trong Python **"
      ],
      "metadata": {
        "id": "A86TtP-NUeBy"
      }
    },
    {
      "cell_type": "code",
      "source": [
        " while 1 = 2: \n"
      ],
      "metadata": {
        "colab": {
          "base_uri": "https://localhost:8080/",
          "height": 130
        },
        "id": "bBGW-5H3Uo9h",
        "outputId": "26819acc-cff2-4cad-eeaf-b4a05655feb4"
      },
      "execution_count": 83,
      "outputs": [
        {
          "output_type": "error",
          "ename": "SyntaxError",
          "evalue": "ignored",
          "traceback": [
            "\u001b[0;36m  File \u001b[0;32m\"<ipython-input-83-7c7a27450cf9>\"\u001b[0;36m, line \u001b[0;32m1\u001b[0m\n\u001b[0;31m    while 1 = 2:\u001b[0m\n\u001b[0m            ^\u001b[0m\n\u001b[0;31mSyntaxError\u001b[0m\u001b[0;31m:\u001b[0m invalid syntax\n"
          ]
        }
      ]
    },
    {
      "cell_type": "code",
      "source": [
        " 10 * (1/0) \n"
      ],
      "metadata": {
        "id": "lUj1uZW6UwoZ"
      },
      "execution_count": null,
      "outputs": []
    },
    {
      "cell_type": "code",
      "source": [
        "3 * bien_chua_khai_bao / 4 "
      ],
      "metadata": {
        "id": "BLXBPp6sUzyq"
      },
      "execution_count": null,
      "outputs": []
    },
    {
      "cell_type": "code",
      "source": [
        "‘ba’ + 7 \n"
      ],
      "metadata": {
        "id": "jAoLJzBmU58C"
      },
      "execution_count": null,
      "outputs": []
    },
    {
      "cell_type": "code",
      "source": [
        "'ba' + (1/0) \n"
      ],
      "metadata": {
        "id": "5vZLBl5KU8AX"
      },
      "execution_count": null,
      "outputs": []
    },
    {
      "cell_type": "code",
      "source": [
        "'ba'+7+(1/0) "
      ],
      "metadata": {
        "id": "yLWNB_viVAaC"
      },
      "execution_count": null,
      "outputs": []
    },
    {
      "cell_type": "markdown",
      "source": [
        "#**Thực hành 3: Xử lý ngoại lệ với cơ chế try… except **\n"
      ],
      "metadata": {
        "id": "obwMhoDlVQ_n"
      }
    },
    {
      "cell_type": "code",
      "source": [
        "while True:\n",
        "  try:\n",
        "    x = int(input(\"Vui long nhap so: \"))\n",
        "    break\n",
        "  except:\n",
        "    print(\"Vui long nhap so. Khong nhap chu!\")"
      ],
      "metadata": {
        "colab": {
          "base_uri": "https://localhost:8080/"
        },
        "id": "Gko5Ha6TVBC-",
        "outputId": "6a87708b-7dde-4ef6-ff9b-ae9a2c6ad608"
      },
      "execution_count": 84,
      "outputs": [
        {
          "name": "stdout",
          "output_type": "stream",
          "text": [
            "Vui long nhap so: 12\n"
          ]
        }
      ]
    },
    {
      "cell_type": "markdown",
      "source": [
        "#**Thực hành 4: Xử lý ngoại lệ với cơ chế try… except… else… finally**"
      ],
      "metadata": {
        "id": "CnCUzPE8VXWA"
      }
    },
    {
      "cell_type": "code",
      "source": [
        "while True: \n",
        " try: \n",
        "  x = int(input('Vui long nhap so: ')) \n",
        " except: \n",
        "  print ('So vua nhap sai') \n",
        " else: \n",
        "  print ('so vua nhap la ' + str(x)) \n",
        "  break \n",
        " finally: \n",
        "  print ('Da hoan thanh chuong trinh') "
      ],
      "metadata": {
        "colab": {
          "base_uri": "https://localhost:8080/"
        },
        "id": "Z4mqeXjpVbBD",
        "outputId": "7fbd5b92-f31f-4db9-a546-1760b21d28f8"
      },
      "execution_count": 85,
      "outputs": [
        {
          "output_type": "stream",
          "name": "stdout",
          "text": [
            "Vui long nhap so: 12\n",
            "so vua nhap la 12\n",
            "Da hoan thanh chuong trinh\n"
          ]
        }
      ]
    },
    {
      "cell_type": "markdown",
      "source": [
        "#**Thực hành 5: Tạo hàm phát sinh dãy số thực đều **\n"
      ],
      "metadata": {
        "id": "GO0cPEzGVtuk"
      }
    },
    {
      "cell_type": "code",
      "source": [
        "def frange(batdau, ketthuc, buocnhay): \n",
        " day_ketqua = [] \n",
        " while batdau < ketthuc: \n",
        "   day_ketqua.append(batdau) \n",
        "   batdau = batdau + buocnhay \n",
        " return day_ketqua \n"
      ],
      "metadata": {
        "id": "oIa66QEAVyOD"
      },
      "execution_count": 86,
      "outputs": []
    },
    {
      "cell_type": "markdown",
      "source": [
        "#**Thực hành 6: Vẽ quỹ đạo bay của vật được ném lên**"
      ],
      "metadata": {
        "id": "5A2dom0jXYPJ"
      }
    },
    {
      "cell_type": "markdown",
      "source": [
        "**+ Hàm 1: Hàm vẽ đồ thị **"
      ],
      "metadata": {
        "id": "fNkSjMytXjfM"
      }
    },
    {
      "cell_type": "code",
      "source": [
        " from matplotlib import pyplot as plt \n",
        " import math \n",
        " def draw_graph(x, y): \n",
        "  plt.plot(x, y) \n",
        "  plt.xlabel('Truc X') \n",
        "  plt.ylabel('Truc Y') \n",
        "  plt.title('Do thi bai toan nem qua bong')"
      ],
      "metadata": {
        "id": "yP2VMIj9XbRE"
      },
      "execution_count": 87,
      "outputs": []
    },
    {
      "cell_type": "markdown",
      "source": [
        "**+ Hàm 2: Hàm xử lý về tạo các khoảng số thực đều nhau **\n"
      ],
      "metadata": {
        "id": "FXhcPkH1Xx2Y"
      }
    },
    {
      "cell_type": "code",
      "source": [
        "def frange(start, final, interval): \n",
        " numbers = [] \n",
        " while start < final: \n",
        "  numbers.append(start) \n",
        "  start = start + interval \n",
        " return numbers "
      ],
      "metadata": {
        "id": "Bb_PxaGGX0qk"
      },
      "execution_count": 94,
      "outputs": []
    },
    {
      "cell_type": "markdown",
      "source": [
        "**+ Hàm 3: Hàm tính toán các dãy X và Y để vẽ đồ thị tương ứng với hàm đạn đạo: **"
      ],
      "metadata": {
        "id": "mqZCIYjCX6FU"
      }
    },
    {
      "cell_type": "code",
      "source": [
        " def draw_trajectory(u, theta): \n",
        " # Gia toc trong truong \n",
        "  g = 9.8 \n",
        " # Goc bay: \n",
        "  theta = math.radians(theta) \n",
        " # Thoi gian bay: \n",
        "  t_flight = 2*u*math.sin(theta)/g \n",
        " # Tinh toan khoang cach thoi gian \n",
        "  intervals = frange(0, t_flight, 0.001) \n",
        " # Danh sach toa do x va y \n",
        "  x = [] \n",
        "  y = [] \n",
        "  for t in intervals: \n",
        "   x.append(u*math.cos(theta)*t) \n",
        "   y.append(u*math.sin(theta)*t - 0.5*g*t*t) \n",
        "  draw_graph(x, y)"
      ],
      "metadata": {
        "id": "EF2Ll2qAX7Sm"
      },
      "execution_count": 95,
      "outputs": []
    },
    {
      "cell_type": "code",
      "source": [
        "if __name__ == '__main__':\n",
        " try: \n",
        "   u = float(input('Nhap van toc ban dau (m/s): ')) \n",
        "   theta = float(input('Nhap goc bay (degrees): ')) \n",
        " except ValueError: \n",
        "    print (' Nhap cac gia tri sai! ') \n",
        " else: \n",
        "    draw_trajectory(u, theta) \n",
        "    plt.show() \n",
        " finally: \n",
        "    print ('Hoan thanh chuong trinh!') \n"
      ],
      "metadata": {
        "colab": {
          "base_uri": "https://localhost:8080/",
          "height": 347
        },
        "id": "5AcRaDarZg1J",
        "outputId": "57a466f0-8f39-40c3-f9a4-6a3be2892bc2"
      },
      "execution_count": 91,
      "outputs": [
        {
          "name": "stdout",
          "output_type": "stream",
          "text": [
            "Nhap van toc ban dau (m/s): 12\n",
            "Nhap goc bay (degrees): 45\n"
          ]
        },
        {
          "output_type": "display_data",
          "data": {
            "image/png": "[encoded data removed]",
            "text/plain": [
              "<Figure size 432x288 with 1 Axes>"
            ]
          },
          "metadata": {
            "needs_background": "light"
          }
        },
        {
          "output_type": "stream",
          "name": "stdout",
          "text": [
            "Hoan thanh chuong trinh!\n"
          ]
        }
      ]
    },
    {
      "cell_type": "code",
      "source": [
        " from matplotlib import pyplot as plt \n",
        " import math \n",
        " def draw_graph(x, y): \n",
        "  plt.plot(x, y) \n",
        "  plt.xlabel('Truc X') \n",
        "  plt.ylabel('Truc Y') \n",
        "  plt.title('Do thi bai toan nem qua bong')\n",
        "  def frange(start, final, interval): \n",
        "   numbers = [] \n",
        "   while start < final: \n",
        "    numbers.append(start) \n",
        "    start = start + interval \n",
        "   return numbers \n",
        " def draw_trajectory(u, theta): \n",
        " # Gia toc trong truong \n",
        "  g = 9.8 \n",
        " # Goc bay: \n",
        "  theta = math.radians(theta) \n",
        " # Thoi gian bay: \n",
        "  t_flight = 2*u*math.sin(theta)/g \n",
        " # Tinh toan khoang cach thoi gian \n",
        "  intervals = frange(0, t_flight, 0.001) \n",
        " # Danh sach toa do x va y \n",
        "  x = [] \n",
        "  y = [] \n",
        "  for t in intervals: \n",
        "   x.append(u*math.cos(theta)*t) \n",
        "   y.append(u*math.sin(theta)*t - 0.5*g*t*t) \n",
        "  draw_graph(x, y)\n",
        "  if __name__ == '__main__':\n",
        "   try: \n",
        "    u = float(input('Nhap van toc ban dau (m/s): ')) \n",
        "    theta = float(input('Nhap goc bay (degrees): ')) \n",
        "   except ValueError: \n",
        "    print (' Nhap cac gia tri sai! ') \n",
        "   else: \n",
        "     draw_trajectory(u, theta) \n",
        "     plt.show() \n",
        "   finally: \n",
        "     print ('Hoan thanh chuong trinh!') \n"
      ],
      "metadata": {
        "id": "cOEi-fvKYJjn"
      },
      "execution_count": 92,
      "outputs": []
    },
    {
      "cell_type": "markdown",
      "source": [
        "#**Thực hành 7: Vẽ nhiều quỹ đạo trên cùng một đồ thị**"
      ],
      "metadata": {
        "id": "NQBCU5lParIT"
      }
    },
    {
      "cell_type": "code",
      "source": [
        "if __name__ == '__main__':\n",
        "  # Danh sach cac toc do ban dau khac nhau\n",
        "  ds_vantoc = [20, 40, 60]\n",
        "  goc_bandau = 45 # 45 do\n",
        "  for v in ds_vantoc:\n",
        "    draw_trajectory(v, goc_bandau)\n",
        "\n",
        "\n",
        "    # Tao chu dan trong do thi\n",
        "  chudan = []\n",
        "  for i in ds_vantoc:\n",
        "    chudan.append(str(i))\n",
        "  # Xem chu dan duoc tao:\n",
        "  print(\"Chu dan duoc tao la: \")\n",
        "  print(chudan)\n",
        "  # Them chu dan vao do thi\n",
        "  plt.legend(chudan)\n",
        "  # Hien thi do thi\n",
        "  plt.show()"
      ],
      "metadata": {
        "colab": {
          "base_uri": "https://localhost:8080/",
          "height": 330
        },
        "id": "omLQe4U_cJl6",
        "outputId": "7aed3cdd-bb8b-498e-c680-843beed55305"
      },
      "execution_count": 96,
      "outputs": [
        {
          "output_type": "stream",
          "name": "stdout",
          "text": [
            "Chu dan duoc tao la: \n",
            "['20', '40', '60']\n"
          ]
        },
        {
          "output_type": "display_data",
          "data": {
            "image/png": "[encoded data removed]",
            "text/plain": [
              "<Figure size 432x288 with 1 Axes>"
            ]
          },
          "metadata": {
            "needs_background": "light"
          }
        }
      ]
    },
    {
      "cell_type": "markdown",
      "source": [
        "#**Thực hành 8: Xây dựng chương trình tính đạo hàm **"
      ],
      "metadata": {
        "id": "hDuf-6hpfk1C"
      }
    },
    {
      "cell_type": "code",
      "source": [
        "''' \n",
        "Chuong trinh tinh toan dao ham \n",
        "''' \n",
        "from sympy import Symbol, Derivative, sympify, pprint  \n",
        "def tinh_daoham(ham_f, bien):\n",
        " bien = Symbol(bien)  \n",
        " d = Derivative(ham_f, bien).doit() \n",
        " pprint(d) \n"
      ],
      "metadata": {
        "id": "yXHAPiWmfoaH"
      },
      "execution_count": 97,
      "outputs": []
    }
  ]
}