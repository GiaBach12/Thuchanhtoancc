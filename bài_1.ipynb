{
  "nbformat": 4,
  "nbformat_minor": 0,
  "metadata": {
    "colab": {
      "name": "bài 1",
      "provenance": [],
      "authorship_tag": "ABX9TyN12UU8qwQ1FLj2z8kM7VEJ",
      "include_colab_link": true
    },
    "kernelspec": {
      "name": "python3",
      "display_name": "Python 3"
    },
    "language_info": {
      "name": "python"
    }
  },
  "cells": [
    {
      "cell_type": "markdown",
      "metadata": {
        "id": "view-in-github",
        "colab_type": "text"
      },
      "source": [
        "<a href=\"https://colab.research.google.com/github/GiaBach12/Thuchanhtoancc/blob/main/ba%CC%80i_1.ipynb\" target=\"_parent\"><img src=\"https://colab.research.google.com/assets/colab-badge.svg\" alt=\"Open In Colab\"/></a>"
      ]
    },
    {
      "cell_type": "markdown",
      "source": [
        "***LY THUYET 1***"
      ],
      "metadata": {
        "id": "oYeg8mlVB9Xk"
      }
    },
    {
      "cell_type": "markdown",
      "source": [
        "***Thuc hanh 1***\n"
      ],
      "metadata": {
        "id": "sQlslxQV_B4l"
      }
    },
    {
      "cell_type": "code",
      "source": [
        "N = 10\n",
        "Day = [1/2**k for k in range (0,N)]\n",
        "print(Day)\n",
        "tong = sum(Day)\n",
        "print(tong)\n",
        "    "
      ],
      "metadata": {
        "id": "Lz3Ou_5P-z8t",
        "outputId": "7884c96e-1230-4818-cff1-9d05ba20cfda",
        "colab": {
          "base_uri": "https://localhost:8080/"
        }
      },
      "execution_count": 10,
      "outputs": [
        {
          "output_type": "stream",
          "name": "stdout",
          "text": [
            "[1.0, 0.5, 0.25, 0.125, 0.0625, 0.03125, 0.015625, 0.0078125, 0.00390625, 0.001953125]\n",
            "1.998046875\n"
          ]
        }
      ]
    },
    {
      "cell_type": "code",
      "source": [
        "N= 8\n",
        "X=[(2-0)*k/N for k in range(0,N+1)]\n",
        "print(X)\n"
      ],
      "metadata": {
        "id": "dWWWd3N8Cnpz",
        "outputId": "d608dc03-3ea5-46e6-90b6-653c76bee3d3",
        "colab": {
          "base_uri": "https://localhost:8080/"
        }
      },
      "execution_count": 21,
      "outputs": [
        {
          "output_type": "stream",
          "name": "stdout",
          "text": [
            "[0.0, 0.25, 0.5, 0.75, 1.0, 1.25, 1.5, 1.75, 2.0]\n"
          ]
        }
      ]
    },
    {
      "cell_type": "code",
      "source": [
        "S=0\n",
        "for k in range(1,N+1):\n",
        "  S= S+ X[k]**2 * (X[k]-X[k-1])\n",
        "print(S)"
      ],
      "metadata": {
        "id": "VuYoIAYpDu7a",
        "outputId": "7b392f73-c8cb-4d7c-e115-298b996bba23",
        "colab": {
          "base_uri": "https://localhost:8080/"
        }
      },
      "execution_count": 20,
      "outputs": [
        {
          "output_type": "stream",
          "name": "stdout",
          "text": [
            "2.6666706666680153\n"
          ]
        }
      ]
    }
  ]
}