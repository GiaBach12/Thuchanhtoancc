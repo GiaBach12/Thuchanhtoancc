{
  "nbformat": 4,
  "nbformat_minor": 0,
  "metadata": {
    "colab": {
      "name": "Bài 2",
      "provenance": [],
      "authorship_tag": "ABX9TyNN7+CUclsEPhoDV+IXkHcB",
      "include_colab_link": true
    },
    "kernelspec": {
      "name": "python3",
      "display_name": "Python 3"
    },
    "language_info": {
      "name": "python"
    }
  },
  "cells": [
    {
      "cell_type": "markdown",
      "metadata": {
        "id": "view-in-github",
        "colab_type": "text"
      },
      "source": [
        "<a href=\"https://colab.research.google.com/github/GiaBach12/Thuchanhtoancc/blob/main/Ba%CC%80i_2.ipynb\" target=\"_parent\"><img src=\"https://colab.research.google.com/assets/colab-badge.svg\" alt=\"Open In Colab\"/></a>"
      ]
    },
    {
      "cell_type": "markdown",
      "source": [
        "***Bài 2 : Đạo hàm***\n",
        "\n"
      ],
      "metadata": {
        "id": "PmcOg2fJhhmT"
      }
    },
    {
      "cell_type": "markdown",
      "source": [
        "Thực hành 1: Sử dụng hàm eval "
      ],
      "metadata": {
        "id": "JkxTQ9DQhsFU"
      }
    },
    {
      "cell_type": "code",
      "execution_count": 1,
      "metadata": {
        "colab": {
          "base_uri": "https://localhost:8080/"
        },
        "id": "xaA5GauNhexT",
        "outputId": "8a2338d0-a03e-48dd-b02d-d45d0d03f2c2"
      },
      "outputs": [
        {
          "output_type": "execute_result",
          "data": {
            "text/plain": [
              "18"
            ]
          },
          "metadata": {},
          "execution_count": 1
        }
      ],
      "source": [
        "chuoitinhtoan = \"a*b+c\" \n",
        "a = 2 \n",
        "b = 5\n",
        "c = 8 \n",
        "eval(chuoitinhtoan) "
      ]
    },
    {
      "cell_type": "markdown",
      "source": [
        "Thực hành 2: Cơ bản về sử dụng hàm subs"
      ],
      "metadata": {
        "id": "6G3kk9skh9_H"
      }
    },
    {
      "cell_type": "code",
      "source": [
        "from sympy import Symbol \n",
        "x = Symbol('x') \n",
        "y = Symbol('y') \n",
        "bieuthuc = x+y \n",
        "thaytheso = bieuthuc.subs({x:10, y:5}) \n",
        "thaytheso "
      ],
      "metadata": {
        "colab": {
          "base_uri": "https://localhost:8080/",
          "height": 38
        },
        "id": "HfhLmv4hiMhS",
        "outputId": "ddedd6e6-6eab-4a7e-893f-7c53dd2dc426"
      },
      "execution_count": 3,
      "outputs": [
        {
          "output_type": "execute_result",
          "data": {
            "text/latex": "$\\displaystyle 15$",
            "text/plain": [
              "15"
            ]
          },
          "metadata": {},
          "execution_count": 3
        }
      ]
    },
    {
      "cell_type": "code",
      "source": [
        "u = Symbol('u') \n",
        "v = Symbol('v') \n",
        "bieuthuc_theo_uv = bieuthuc.subs({x:u, y:v}) \n",
        "bieuthuc_theo_uv "
      ],
      "metadata": {
        "colab": {
          "base_uri": "https://localhost:8080/",
          "height": 39
        },
        "id": "8XybBHFxinaN",
        "outputId": "1aecadcb-074b-4f66-d457-6a4ad2cbcf01"
      },
      "execution_count": 4,
      "outputs": [
        {
          "output_type": "execute_result",
          "data": {
            "text/latex": "$\\displaystyle u + v$",
            "text/plain": [
              "u + v"
            ]
          },
          "metadata": {},
          "execution_count": 4
        }
      ]
    },
    {
      "cell_type": "code",
      "source": [
        "thaythe_tinhtoan = bieuthuc.subs({x:2*u*v, y:u**2+v**2}) \n",
        "thaythe_tinhtoan \n",
        "u**2 + 2*u*v + v**2 \n",
        "thaythe_tinhtoan.factor()"
      ],
      "metadata": {
        "colab": {
          "base_uri": "https://localhost:8080/",
          "height": 40
        },
        "id": "z3-L8jqDi1kp",
        "outputId": "c9e0fe6d-c4ea-4975-d349-6b1fd5cb0335"
      },
      "execution_count": 5,
      "outputs": [
        {
          "output_type": "execute_result",
          "data": {
            "text/latex": "$\\displaystyle \\left(u + v\\right)^{2}$",
            "text/plain": [
              "(u + v)**2"
            ]
          },
          "metadata": {},
          "execution_count": 5
        }
      ]
    },
    {
      "cell_type": "markdown",
      "source": [
        "Ví dụ khác :"
      ],
      "metadata": {
        "id": "OLXJVcl2jPwD"
      }
    },
    {
      "cell_type": "code",
      "source": [
        "import sympy \n",
        "x = Symbol('x') \n",
        "y = Symbol('y') \n",
        "bieuthuc = x + y \n",
        "bieuthuc2 = x**2 + y**2 \n",
        "u = Symbol('u') \n",
        "v = Symbol('v') \n",
        "a = Symbol('a') \n",
        "from sympy import sin, cos \n",
        "bieuthuc_theo_uv = bieuthuc2.subs({x : a*sin(u), y : a*cos(u)}) \n",
        "bieuthuc_theo_uv"
      ],
      "metadata": {
        "colab": {
          "base_uri": "https://localhost:8080/",
          "height": 39
        },
        "id": "hGPVbO91jRbk",
        "outputId": "eb97615a-2931-43d2-bb8d-1ca9e1d6ddac"
      },
      "execution_count": 6,
      "outputs": [
        {
          "output_type": "execute_result",
          "data": {
            "text/latex": "$\\displaystyle a^{2} \\sin^{2}{\\left(u \\right)} + a^{2} \\cos^{2}{\\left(u \\right)}$",
            "text/plain": [
              "a**2*sin(u)**2 + a**2*cos(u)**2"
            ]
          },
          "metadata": {},
          "execution_count": 6
        }
      ]
    },
    {
      "cell_type": "code",
      "source": [
        "import sympy \n",
        "x = Symbol('x') \n",
        "y = Symbol('y') \n",
        "bieuthuc = x + y \n",
        "bieuthuc2 = x**2 + y**2 \n",
        "u = Symbol('u') \n",
        "v = Symbol('v') \n",
        "a = Symbol('a') \n",
        "from sympy import sin, cos \n",
        "bieuthuc_theo_uv = bieuthuc2.subs({x : a*sin(u), y : a*cos(u)}) \n",
        "bieuthuc_theo_uv\n",
        "bieuthuc_theo_uv.simplify() "
      ],
      "metadata": {
        "colab": {
          "base_uri": "https://localhost:8080/",
          "height": 39
        },
        "id": "mqnIjuarjkM0",
        "outputId": "2945493c-1a15-415c-e9da-f7c1b745e6f7"
      },
      "execution_count": 7,
      "outputs": [
        {
          "output_type": "execute_result",
          "data": {
            "text/latex": "$\\displaystyle a^{2}$",
            "text/plain": [
              "a**2"
            ]
          },
          "metadata": {},
          "execution_count": 7
        }
      ]
    },
    {
      "cell_type": "markdown",
      "source": [
        "Thực hành 3: Tạo danh sách "
      ],
      "metadata": {
        "id": "7rfs9zbakUVZ"
      }
    },
    {
      "cell_type": "code",
      "source": [
        "danhsach_so = [10, 15, 20] \n",
        "danhsach_so[0]\n"
      ],
      "metadata": {
        "colab": {
          "base_uri": "https://localhost:8080/"
        },
        "id": "87dYCbJpkUxD",
        "outputId": "032092c6-f8d8-4334-fd3d-1d1b0d039b86"
      },
      "execution_count": 9,
      "outputs": [
        {
          "output_type": "execute_result",
          "data": {
            "text/plain": [
              "10"
            ]
          },
          "metadata": {},
          "execution_count": 9
        }
      ]
    },
    {
      "cell_type": "code",
      "source": [
        "danhsach_so[1]"
      ],
      "metadata": {
        "colab": {
          "base_uri": "https://localhost:8080/"
        },
        "id": "eXitn84qkufM",
        "outputId": "1f509861-60cf-4bc4-e81b-3f3bf7eaea4d"
      },
      "execution_count": 10,
      "outputs": [
        {
          "output_type": "execute_result",
          "data": {
            "text/plain": [
              "15"
            ]
          },
          "metadata": {},
          "execution_count": 10
        }
      ]
    },
    {
      "cell_type": "code",
      "source": [
        "danhsach_so[2]"
      ],
      "metadata": {
        "colab": {
          "base_uri": "https://localhost:8080/"
        },
        "id": "5c3WczWEkx-6",
        "outputId": "fbedf68f-c0a9-40d6-d478-18cc00593d88"
      },
      "execution_count": 11,
      "outputs": [
        {
          "output_type": "execute_result",
          "data": {
            "text/plain": [
              "20"
            ]
          },
          "metadata": {},
          "execution_count": 11
        }
      ]
    },
    {
      "cell_type": "markdown",
      "source": [
        "Thực hành 4: Duyệt danh sách"
      ],
      "metadata": {
        "id": "M8CGABbQlF0q"
      }
    },
    {
      "cell_type": "code",
      "source": [
        "ds=[1,2,3]\n",
        "for i in ds:\n",
        "  print(i)"
      ],
      "metadata": {
        "colab": {
          "base_uri": "https://localhost:8080/"
        },
        "id": "LKR_it-MlGSn",
        "outputId": "9d869e1b-d4e3-46e9-a506-06adad04a811"
      },
      "execution_count": 16,
      "outputs": [
        {
          "output_type": "stream",
          "name": "stdout",
          "text": [
            "1\n",
            "2\n",
            "3\n"
          ]
        }
      ]
    },
    {
      "cell_type": "markdown",
      "source": [
        " hàm enumerate"
      ],
      "metadata": {
        "id": "D5B-uZdisq8S"
      }
    },
    {
      "cell_type": "code",
      "source": [
        "ds = [10, 11, 12] \n",
        "for chiso, giatri in enumerate(ds): \n",
        "   print(chiso, giatri) "
      ],
      "metadata": {
        "colab": {
          "base_uri": "https://localhost:8080/"
        },
        "id": "w2urug94srTt",
        "outputId": "40673d72-9006-4c59-9d40-129621816fcd"
      },
      "execution_count": 17,
      "outputs": [
        {
          "output_type": "stream",
          "name": "stdout",
          "text": [
            "0 10\n",
            "1 11\n",
            "2 12\n"
          ]
        }
      ]
    },
    {
      "cell_type": "markdown",
      "source": [
        "Thực hành 5: Vẽ đồ thị đầu tiên từ 2 danh sách số (list)"
      ],
      "metadata": {
        "id": "d-Yoq_fRs053"
      }
    },
    {
      "cell_type": "code",
      "source": [
        "x_numbers = [1, 6, 8] \n",
        "y_numbers = [2, 5, 9] \n",
        "from pylab import plot, show \n",
        "plot(x_numbers, y_numbers)\n",
        "show() "
      ],
      "metadata": {
        "colab": {
          "base_uri": "https://localhost:8080/",
          "height": 265
        },
        "id": "SwzhNe58s1yl",
        "outputId": "c3e4eb4a-8a9f-4166-9135-ac0815094c34"
      },
      "execution_count": 18,
      "outputs": [
        {
          "output_type": "display_data",
          "data": {
            "image/png": "[encoded data removed]",
            "text/plain": [
              "<Figure size 432x288 with 1 Axes>"
            ]
          },
          "metadata": {
            "needs_background": "light"
          }
        }
      ]
    }
  ]
}