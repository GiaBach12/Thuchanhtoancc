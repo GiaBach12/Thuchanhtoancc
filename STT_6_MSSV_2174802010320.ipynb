{
  "nbformat": 4,
  "nbformat_minor": 0,
  "metadata": {
    "colab": {
      "name": "STT:6-MSSV:2174802010320.ipynb",
      "provenance": [],
      "authorship_tag": "ABX9TyOd/ZoFm2gKYhMYNQaE/l4/",
      "include_colab_link": true
    },
    "kernelspec": {
      "name": "python3",
      "display_name": "Python 3"
    },
    "language_info": {
      "name": "python"
    }
  },
  "cells": [
    {
      "cell_type": "markdown",
      "metadata": {
        "id": "view-in-github",
        "colab_type": "text"
      },
      "source": [
        "<a href=\"https://colab.research.google.com/github/GiaBach12/Thuchanhtoancc/blob/main/STT_6_MSSV_2174802010320.ipynb\" target=\"_parent\"><img src=\"https://colab.research.google.com/assets/colab-badge.svg\" alt=\"Open In Colab\"/></a>"
      ]
    },
    {
      "cell_type": "markdown",
      "source": [
        "Bài 1 :\n",
        "\n"
      ],
      "metadata": {
        "id": "hPXqyRaJsgYy"
      }
    },
    {
      "cell_type": "markdown",
      "source": [
        "1"
      ],
      "metadata": {
        "id": "AdRLfs6Rsldm"
      }
    },
    {
      "cell_type": "code",
      "execution_count": 6,
      "metadata": {
        "id": "SNrus-qIkXoA",
        "colab": {
          "base_uri": "https://localhost:8080/",
          "height": 79
        },
        "outputId": "6f698edf-a522-4074-bca8-3d91fbdd63fc"
      },
      "outputs": [
        {
          "output_type": "execute_result",
          "data": {
            "text/plain": [
              "Integral((2*x - 1)/(x + 1), (x, 0, 1))"
            ],
            "text/latex": "$\\displaystyle \\int\\limits_{0}^{1} \\frac{2 x - 1}{x + 1}\\, dx$"
          },
          "metadata": {},
          "execution_count": 6
        }
      ],
      "source": [
        "from sympy import Symbol, Derivative\n",
        "x = Symbol('x')\n",
        "tich_phan =(2*x-1)/(x+1)\n",
        "ket_qua = Integral(tich_phan,(x,0,1))\n",
        "ket_qua"
      ]
    },
    {
      "cell_type": "code",
      "source": [
        "ket_qua.doit()"
      ],
      "metadata": {
        "colab": {
          "base_uri": "https://localhost:8080/",
          "height": 38
        },
        "id": "HSYTX6O_szu9",
        "outputId": "b8bc1846-40ff-4f15-e866-7d13a2517694"
      },
      "execution_count": 7,
      "outputs": [
        {
          "output_type": "execute_result",
          "data": {
            "text/plain": [
              "2 - 3*log(2)"
            ],
            "text/latex": "$\\displaystyle 2 - 3 \\log{\\left(2 \\right)}$"
          },
          "metadata": {},
          "execution_count": 7
        }
      ]
    },
    {
      "cell_type": "markdown",
      "source": [
        "5"
      ],
      "metadata": {
        "id": "PUXkB5pNs6js"
      }
    },
    {
      "cell_type": "code",
      "source": [
        "x = Symbol('x')\n",
        "tich_phan1 = (2*x+1)/(x*(x+1))\n",
        "ket_qua = Integral(tich_phan1,(x,1,2))\n",
        "ket_qua"
      ],
      "metadata": {
        "colab": {
          "base_uri": "https://localhost:8080/",
          "height": 79
        },
        "id": "5_HO0gnBrcwC",
        "outputId": "ce95a9b3-b27b-45c0-e20c-19a5cbe3fd3a"
      },
      "execution_count": 8,
      "outputs": [
        {
          "output_type": "execute_result",
          "data": {
            "text/plain": [
              "Integral((2*x + 1)/(x*(x + 1)), (x, 1, 2))"
            ],
            "text/latex": "$\\displaystyle \\int\\limits_{1}^{2} \\frac{2 x + 1}{x \\left(x + 1\\right)}\\, dx$"
          },
          "metadata": {},
          "execution_count": 8
        }
      ]
    },
    {
      "cell_type": "code",
      "source": [
        "ket_qua.doit()\n"
      ],
      "metadata": {
        "colab": {
          "base_uri": "https://localhost:8080/",
          "height": 38
        },
        "id": "ugX-WBzYtADb",
        "outputId": "d00c7625-fb22-459d-ab51-a1b9e826cc36"
      },
      "execution_count": 9,
      "outputs": [
        {
          "output_type": "execute_result",
          "data": {
            "text/plain": [
              "-log(2) + log(6)"
            ],
            "text/latex": "$\\displaystyle - \\log{\\left(2 \\right)} + \\log{\\left(6 \\right)}$"
          },
          "metadata": {},
          "execution_count": 9
        }
      ]
    },
    {
      "cell_type": "markdown",
      "source": [
        "Tính đạo hàm"
      ],
      "metadata": {
        "id": "Unc7dd0ftDUo"
      }
    },
    {
      "cell_type": "markdown",
      "source": [
        "2"
      ],
      "metadata": {
        "id": "xsMGUCivtD7B"
      }
    },
    {
      "cell_type": "code",
      "source": [
        "from sympy import Derivative, Symbol\n",
        "x = Symbol('x')\n",
        "f = (2*x-1)/(x+2)\n",
        "f"
      ],
      "metadata": {
        "colab": {
          "base_uri": "https://localhost:8080/",
          "height": 53
        },
        "id": "EtXGBA_BtLJq",
        "outputId": "997a15a8-366c-4f32-a439-8a2c6fd6e10f"
      },
      "execution_count": 10,
      "outputs": [
        {
          "output_type": "execute_result",
          "data": {
            "text/plain": [
              "(2*x - 1)/(x + 2)"
            ],
            "text/latex": "$\\displaystyle \\frac{2 x - 1}{x + 2}$"
          },
          "metadata": {},
          "execution_count": 10
        }
      ]
    },
    {
      "cell_type": "code",
      "source": [
        "Derivative(f, x).doit()"
      ],
      "metadata": {
        "colab": {
          "base_uri": "https://localhost:8080/",
          "height": 58
        },
        "id": "XOiAvzzLtWc4",
        "outputId": "b617551f-3b89-44db-cc1c-82daf7db80d2"
      },
      "execution_count": 11,
      "outputs": [
        {
          "output_type": "execute_result",
          "data": {
            "text/plain": [
              "2/(x + 2) - (2*x - 1)/(x + 2)**2"
            ],
            "text/latex": "$\\displaystyle \\frac{2}{x + 2} - \\frac{2 x - 1}{\\left(x + 2\\right)^{2}}$"
          },
          "metadata": {},
          "execution_count": 11
        }
      ]
    },
    {
      "cell_type": "markdown",
      "source": [
        "6"
      ],
      "metadata": {
        "id": "g0wJE2GdtWH8"
      }
    },
    {
      "cell_type": "code",
      "source": [
        "f = 2/3*x**3-5*x**2+2*x+4\n",
        "f"
      ],
      "metadata": {
        "colab": {
          "base_uri": "https://localhost:8080/",
          "height": 39
        },
        "id": "rNORP7mgtb0o",
        "outputId": "114a5dbc-9994-4cc0-84c5-3c3b47fddfd2"
      },
      "execution_count": 12,
      "outputs": [
        {
          "output_type": "execute_result",
          "data": {
            "text/plain": [
              "0.666666666666667*x**3 - 5*x**2 + 2*x + 4"
            ],
            "text/latex": "$\\displaystyle 0.666666666666667 x^{3} - 5 x^{2} + 2 x + 4$"
          },
          "metadata": {},
          "execution_count": 12
        }
      ]
    },
    {
      "cell_type": "code",
      "source": [
        "Derivative(f, x).doit()"
      ],
      "metadata": {
        "id": "PeI3ca9ItfAw",
        "outputId": "2b90ce05-c607-49b1-8f38-72ef02d8f0fb",
        "colab": {
          "base_uri": "https://localhost:8080/",
          "height": 39
        }
      },
      "execution_count": 13,
      "outputs": [
        {
          "output_type": "execute_result",
          "data": {
            "text/plain": [
              "2.0*x**2 - 10*x + 2"
            ],
            "text/latex": "$\\displaystyle 2.0 x^{2} - 10 x + 2$"
          },
          "metadata": {},
          "execution_count": 13
        }
      ]
    }
  ]
}