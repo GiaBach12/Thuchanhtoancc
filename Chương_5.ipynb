{
  "nbformat": 4,
  "nbformat_minor": 0,
  "metadata": {
    "colab": {
      "name": "Chương 5.ipynb",
      "provenance": [],
      "collapsed_sections": [],
      "authorship_tag": "ABX9TyOmmqoMvcPQFZs7/MainRTx",
      "include_colab_link": true
    },
    "kernelspec": {
      "name": "python3",
      "display_name": "Python 3"
    },
    "language_info": {
      "name": "python"
    }
  },
  "cells": [
    {
      "cell_type": "markdown",
      "metadata": {
        "id": "view-in-github",
        "colab_type": "text"
      },
      "source": [
        "<a href=\"https://colab.research.google.com/github/GiaBach12/Thuchanhtoancc/blob/main/Ch%C6%B0%C6%A1ng_5.ipynb\" target=\"_parent\"><img src=\"https://colab.research.google.com/assets/colab-badge.svg\" alt=\"Open In Colab\"/></a>"
      ]
    },
    {
      "cell_type": "markdown",
      "source": [
        "#**Thực hành 1: Lặp để tìm nghiệm**"
      ],
      "metadata": {
        "id": "t9hN25_SPLtP"
      }
    },
    {
      "cell_type": "code",
      "execution_count": 27,
      "metadata": {
        "colab": {
          "base_uri": "https://localhost:8080/"
        },
        "id": "evD02uV3NrKk",
        "outputId": "a58a12be-4b52-419c-b832-1e22fff0476f"
      },
      "outputs": [
        {
          "output_type": "stream",
          "name": "stdout",
          "text": [
            "3\n"
          ]
        }
      ],
      "source": [
        "x = 3 \n",
        "print (x) "
      ]
    },
    {
      "cell_type": "code",
      "source": [
        "import math\n",
        "x = math.sqrt(1+x) \n",
        "print (x)"
      ],
      "metadata": {
        "colab": {
          "base_uri": "https://localhost:8080/"
        },
        "id": "_N3TOsfNPZXp",
        "outputId": "1c17535f-558a-446c-e2b2-fb399f7f40be"
      },
      "execution_count": 28,
      "outputs": [
        {
          "output_type": "stream",
          "name": "stdout",
          "text": [
            "2.0\n"
          ]
        }
      ]
    },
    {
      "cell_type": "code",
      "source": [
        "import math\n",
        "x = math.sqrt(1+x) \n",
        "print (x)"
      ],
      "metadata": {
        "colab": {
          "base_uri": "https://localhost:8080/"
        },
        "id": "lua5buSLPlGP",
        "outputId": "906e6ca7-8a1b-4446-e6ac-c84eee24d673"
      },
      "execution_count": 29,
      "outputs": [
        {
          "output_type": "stream",
          "name": "stdout",
          "text": [
            "1.7320508075688772\n"
          ]
        }
      ]
    },
    {
      "cell_type": "code",
      "source": [
        "import math\n",
        "x = math.sqrt(1+x) \n",
        "print (x)"
      ],
      "metadata": {
        "colab": {
          "base_uri": "https://localhost:8080/"
        },
        "id": "MTaUXOFnPlmM",
        "outputId": "fe91778a-0410-4665-e857-5d15c04913d3"
      },
      "execution_count": 30,
      "outputs": [
        {
          "output_type": "stream",
          "name": "stdout",
          "text": [
            "1.6528916502810695\n"
          ]
        }
      ]
    },
    {
      "cell_type": "code",
      "source": [
        "import math\n",
        "x = math.sqrt(1+x) \n",
        "print (x)"
      ],
      "metadata": {
        "colab": {
          "base_uri": "https://localhost:8080/"
        },
        "id": "D9XXI0PsPpkz",
        "outputId": "1bc4fcdf-1ece-42fa-991e-383b1d0f05f0"
      },
      "execution_count": 31,
      "outputs": [
        {
          "output_type": "stream",
          "name": "stdout",
          "text": [
            "1.6287699807772333\n"
          ]
        }
      ]
    },
    {
      "cell_type": "markdown",
      "source": [
        "#**Thực hành 2: Lặp bằng while để tìm nghiệm**"
      ],
      "metadata": {
        "id": "p_4gnxqMPI2g"
      }
    },
    {
      "cell_type": "code",
      "source": [
        "import math \n",
        "x = 3 \n",
        "lap = 1 \n",
        "while (x != math.sqrt(x+1)): \n",
        " x = math.sqrt(x+1) \n",
        " lap = lap +1 "
      ],
      "metadata": {
        "id": "Q5tpKssFPt0o"
      },
      "execution_count": 32,
      "outputs": []
    },
    {
      "cell_type": "code",
      "source": [
        "x"
      ],
      "metadata": {
        "colab": {
          "base_uri": "https://localhost:8080/"
        },
        "id": "S3AG2RTUP2mW",
        "outputId": "abf64527-b1b3-4cec-edfd-3c09cc62727b"
      },
      "execution_count": 33,
      "outputs": [
        {
          "output_type": "execute_result",
          "data": {
            "text/plain": [
              "1.618033988749895"
            ]
          },
          "metadata": {},
          "execution_count": 33
        }
      ]
    },
    {
      "cell_type": "code",
      "source": [
        "lap\n"
      ],
      "metadata": {
        "colab": {
          "base_uri": "https://localhost:8080/"
        },
        "id": "gas-yHh3P6jr",
        "outputId": "719390b1-5a9d-4605-e946-7990517c398b"
      },
      "execution_count": 34,
      "outputs": [
        {
          "output_type": "execute_result",
          "data": {
            "text/plain": [
              "32"
            ]
          },
          "metadata": {},
          "execution_count": 34
        }
      ]
    },
    {
      "cell_type": "markdown",
      "source": [
        "#**Thực hành 3: Giải phương trình bằng hàm solve trong sympy**"
      ],
      "metadata": {
        "id": "xxCA7lPvP-V5"
      }
    },
    {
      "cell_type": "code",
      "source": [
        "import sympy as sp \n",
        "from sympy import Symbol \n",
        "x = Symbol('x') \n",
        "sp.solve(x-sp.sqrt(1+x),x)"
      ],
      "metadata": {
        "colab": {
          "base_uri": "https://localhost:8080/"
        },
        "id": "YR8ZqDInQCKU",
        "outputId": "744c0896-a50d-46a5-c38e-57066a531e21"
      },
      "execution_count": 53,
      "outputs": [
        {
          "output_type": "execute_result",
          "data": {
            "text/plain": [
              "[1/2 + sqrt(5)/2]"
            ]
          },
          "metadata": {},
          "execution_count": 53
        }
      ]
    },
    {
      "cell_type": "markdown",
      "source": [
        "#**Thực hành 4: Các phép toán trên vector **"
      ],
      "metadata": {
        "id": "244jhXPPQSd0"
      }
    },
    {
      "cell_type": "code",
      "source": [
        "import numpy as np \n",
        "v1 = np.array([1., 2., 3.]) # tạo vector 3 chiều \n",
        "v2 = np.array([2., 1., 0.]) # cộng vector\n",
        "v3 = v1 + v2 \n",
        "v3\n"
      ],
      "metadata": {
        "colab": {
          "base_uri": "https://localhost:8080/"
        },
        "id": "vPwMPCBtQYj5",
        "outputId": "2722dfe7-cf52-4f2e-b481-835a4934d0e7"
      },
      "execution_count": 36,
      "outputs": [
        {
          "output_type": "execute_result",
          "data": {
            "text/plain": [
              "array([3., 3., 3.])"
            ]
          },
          "metadata": {},
          "execution_count": 36
        }
      ]
    },
    {
      "cell_type": "code",
      "source": [
        "3*v1 + 2*v2"
      ],
      "metadata": {
        "colab": {
          "base_uri": "https://localhost:8080/"
        },
        "id": "JLIG1Lw1QhDR",
        "outputId": "0e43befa-47a9-47c3-8b14-23a719040985"
      },
      "execution_count": 37,
      "outputs": [
        {
          "output_type": "execute_result",
          "data": {
            "text/plain": [
              "array([7., 8., 9.])"
            ]
          },
          "metadata": {},
          "execution_count": 37
        }
      ]
    },
    {
      "cell_type": "code",
      "source": [
        " [1, 2, 3] + [2, 1, 0] \n",
        " "
      ],
      "metadata": {
        "colab": {
          "base_uri": "https://localhost:8080/"
        },
        "id": "1yIngJI5Qr6n",
        "outputId": "672e6424-2bd4-44df-8685-58fba3d17784"
      },
      "execution_count": 38,
      "outputs": [
        {
          "output_type": "execute_result",
          "data": {
            "text/plain": [
              "[1, 2, 3, 2, 1, 0]"
            ]
          },
          "metadata": {},
          "execution_count": 38
        }
      ]
    },
    {
      "cell_type": "code",
      "source": [
        "3*[1, 2, 3] + 2*[2, 1, 0]"
      ],
      "metadata": {
        "colab": {
          "base_uri": "https://localhost:8080/"
        },
        "id": "rzuadOPLQuAq",
        "outputId": "aedc8005-3967-45a2-95a4-5e1d9dabce2f"
      },
      "execution_count": 39,
      "outputs": [
        {
          "output_type": "execute_result",
          "data": {
            "text/plain": [
              "[1, 2, 3, 1, 2, 3, 1, 2, 3, 2, 1, 0, 2, 1, 0]"
            ]
          },
          "metadata": {},
          "execution_count": 39
        }
      ]
    },
    {
      "cell_type": "markdown",
      "source": [
        "**Ghép nối (Concatenating) 2 hoặc nhiều vector: **"
      ],
      "metadata": {
        "id": "w3TY-HQeQxtT"
      }
    },
    {
      "cell_type": "code",
      "source": [
        " v4 = np.hstack([v1, v2])\n",
        " v4"
      ],
      "metadata": {
        "colab": {
          "base_uri": "https://localhost:8080/"
        },
        "id": "tpOGAG8OQyfX",
        "outputId": "654b8b1c-2555-470f-ab73-9d974deba722"
      },
      "execution_count": 40,
      "outputs": [
        {
          "output_type": "execute_result",
          "data": {
            "text/plain": [
              "array([1., 2., 3., 2., 1., 0.])"
            ]
          },
          "metadata": {},
          "execution_count": 40
        }
      ]
    },
    {
      "cell_type": "markdown",
      "source": [
        "**Phép nhân vô hướng 2 vector:**"
      ],
      "metadata": {
        "id": "98Q2e0LjQ5M2"
      }
    },
    {
      "cell_type": "code",
      "source": [
        "np.dot(v1, v2)"
      ],
      "metadata": {
        "colab": {
          "base_uri": "https://localhost:8080/"
        },
        "id": "NsS6wBnjQ12S",
        "outputId": "6880fa9f-86cf-4087-f83d-b51982112843"
      },
      "execution_count": 41,
      "outputs": [
        {
          "output_type": "execute_result",
          "data": {
            "text/plain": [
              "4.0"
            ]
          },
          "metadata": {},
          "execution_count": 41
        }
      ]
    },
    {
      "cell_type": "markdown",
      "source": [
        "**Tính toán giá trị sin của vector: **"
      ],
      "metadata": {
        "id": "YFAsY7RLQ9bA"
      }
    },
    {
      "cell_type": "code",
      "source": [
        "angles = np.linspace(0, np.pi/2, 5) \n",
        "angles"
      ],
      "metadata": {
        "colab": {
          "base_uri": "https://localhost:8080/"
        },
        "id": "dA4ODHIAQ-SN",
        "outputId": "86dfe455-4637-468a-db79-7c795bbcdb23"
      },
      "execution_count": 42,
      "outputs": [
        {
          "output_type": "execute_result",
          "data": {
            "text/plain": [
              "array([0.        , 0.39269908, 0.78539816, 1.17809725, 1.57079633])"
            ]
          },
          "metadata": {},
          "execution_count": 42
        }
      ]
    },
    {
      "cell_type": "code",
      "source": [
        "np.sin(angles)"
      ],
      "metadata": {
        "colab": {
          "base_uri": "https://localhost:8080/"
        },
        "id": "QVbCthfuRC_h",
        "outputId": "7d7684cf-e1d9-473d-cc64-eba8e08ca9f0"
      },
      "execution_count": 43,
      "outputs": [
        {
          "output_type": "execute_result",
          "data": {
            "text/plain": [
              "array([0.        , 0.38268343, 0.70710678, 0.92387953, 1.        ])"
            ]
          },
          "metadata": {},
          "execution_count": 43
        }
      ]
    },
    {
      "cell_type": "markdown",
      "source": [
        "**hàm xử lý sin trong gói sympy sẽ không hỗ trợ việc tính toán trên toàn bộ vector chứa dữ liệu. Thử nghiệm: **"
      ],
      "metadata": {
        "id": "A3VP6rpkRJoD"
      }
    },
    {
      "cell_type": "code",
      "source": [
        "import sympy as sy \n",
        "sy.sin(angles) "
      ],
      "metadata": {
        "colab": {
          "base_uri": "https://localhost:8080/",
          "height": 518
        },
        "id": "13_HxN4TRFsf",
        "outputId": "35e9bae1-b955-4677-cb1d-502b21dd78a3"
      },
      "execution_count": 45,
      "outputs": [
        {
          "output_type": "error",
          "ename": "AttributeError",
          "evalue": "ignored",
          "traceback": [
            "\u001b[0;31m---------------------------------------------------------------------------\u001b[0m",
            "\u001b[0;31mTypeError\u001b[0m                                 Traceback (most recent call last)",
            "\u001b[0;32m/usr/local/lib/python3.7/dist-packages/sympy/core/cache.py\u001b[0m in \u001b[0;36mwrapper\u001b[0;34m(*args, **kwargs)\u001b[0m\n\u001b[1;32m     71\u001b[0m             \u001b[0;32mtry\u001b[0m\u001b[0;34m:\u001b[0m\u001b[0;34m\u001b[0m\u001b[0;34m\u001b[0m\u001b[0m\n\u001b[0;32m---> 72\u001b[0;31m                 \u001b[0mretval\u001b[0m \u001b[0;34m=\u001b[0m \u001b[0mcfunc\u001b[0m\u001b[0;34m(\u001b[0m\u001b[0;34m*\u001b[0m\u001b[0margs\u001b[0m\u001b[0;34m,\u001b[0m \u001b[0;34m**\u001b[0m\u001b[0mkwargs\u001b[0m\u001b[0;34m)\u001b[0m\u001b[0;34m\u001b[0m\u001b[0;34m\u001b[0m\u001b[0m\n\u001b[0m\u001b[1;32m     73\u001b[0m             \u001b[0;32mexcept\u001b[0m \u001b[0mTypeError\u001b[0m\u001b[0;34m:\u001b[0m\u001b[0;34m\u001b[0m\u001b[0;34m\u001b[0m\u001b[0m\n",
            "\u001b[0;31mTypeError\u001b[0m: unhashable type: 'numpy.ndarray'",
            "\nDuring handling of the above exception, another exception occurred:\n",
            "\u001b[0;31mTypeError\u001b[0m                                 Traceback (most recent call last)",
            "\u001b[0;32m/usr/local/lib/python3.7/dist-packages/sympy/core/cache.py\u001b[0m in \u001b[0;36mwrapper\u001b[0;34m(*args, **kwargs)\u001b[0m\n\u001b[1;32m     71\u001b[0m             \u001b[0;32mtry\u001b[0m\u001b[0;34m:\u001b[0m\u001b[0;34m\u001b[0m\u001b[0;34m\u001b[0m\u001b[0m\n\u001b[0;32m---> 72\u001b[0;31m                 \u001b[0mretval\u001b[0m \u001b[0;34m=\u001b[0m \u001b[0mcfunc\u001b[0m\u001b[0;34m(\u001b[0m\u001b[0;34m*\u001b[0m\u001b[0margs\u001b[0m\u001b[0;34m,\u001b[0m \u001b[0;34m**\u001b[0m\u001b[0mkwargs\u001b[0m\u001b[0;34m)\u001b[0m\u001b[0;34m\u001b[0m\u001b[0;34m\u001b[0m\u001b[0m\n\u001b[0m\u001b[1;32m     73\u001b[0m             \u001b[0;32mexcept\u001b[0m \u001b[0mTypeError\u001b[0m\u001b[0;34m:\u001b[0m\u001b[0;34m\u001b[0m\u001b[0;34m\u001b[0m\u001b[0m\n",
            "\u001b[0;31mTypeError\u001b[0m: unhashable type: 'numpy.ndarray'",
            "\nDuring handling of the above exception, another exception occurred:\n",
            "\u001b[0;31mAttributeError\u001b[0m                            Traceback (most recent call last)",
            "\u001b[0;32m<ipython-input-45-7d7d2f88ba25>\u001b[0m in \u001b[0;36m<module>\u001b[0;34m()\u001b[0m\n\u001b[1;32m      1\u001b[0m \u001b[0;32mimport\u001b[0m \u001b[0msympy\u001b[0m \u001b[0;32mas\u001b[0m \u001b[0msy\u001b[0m\u001b[0;34m\u001b[0m\u001b[0;34m\u001b[0m\u001b[0m\n\u001b[0;32m----> 2\u001b[0;31m \u001b[0msy\u001b[0m\u001b[0;34m.\u001b[0m\u001b[0msin\u001b[0m\u001b[0;34m(\u001b[0m\u001b[0mangles\u001b[0m\u001b[0;34m)\u001b[0m\u001b[0;34m\u001b[0m\u001b[0;34m\u001b[0m\u001b[0m\n\u001b[0m",
            "\u001b[0;32m/usr/local/lib/python3.7/dist-packages/sympy/core/cache.py\u001b[0m in \u001b[0;36mwrapper\u001b[0;34m(*args, **kwargs)\u001b[0m\n\u001b[1;32m     72\u001b[0m                 \u001b[0mretval\u001b[0m \u001b[0;34m=\u001b[0m \u001b[0mcfunc\u001b[0m\u001b[0;34m(\u001b[0m\u001b[0;34m*\u001b[0m\u001b[0margs\u001b[0m\u001b[0;34m,\u001b[0m \u001b[0;34m**\u001b[0m\u001b[0mkwargs\u001b[0m\u001b[0;34m)\u001b[0m\u001b[0;34m\u001b[0m\u001b[0;34m\u001b[0m\u001b[0m\n\u001b[1;32m     73\u001b[0m             \u001b[0;32mexcept\u001b[0m \u001b[0mTypeError\u001b[0m\u001b[0;34m:\u001b[0m\u001b[0;34m\u001b[0m\u001b[0;34m\u001b[0m\u001b[0m\n\u001b[0;32m---> 74\u001b[0;31m                 \u001b[0mretval\u001b[0m \u001b[0;34m=\u001b[0m \u001b[0mfunc\u001b[0m\u001b[0;34m(\u001b[0m\u001b[0;34m*\u001b[0m\u001b[0margs\u001b[0m\u001b[0;34m,\u001b[0m \u001b[0;34m**\u001b[0m\u001b[0mkwargs\u001b[0m\u001b[0;34m)\u001b[0m\u001b[0;34m\u001b[0m\u001b[0;34m\u001b[0m\u001b[0m\n\u001b[0m\u001b[1;32m     75\u001b[0m             \u001b[0;32mreturn\u001b[0m \u001b[0mretval\u001b[0m\u001b[0;34m\u001b[0m\u001b[0;34m\u001b[0m\u001b[0m\n\u001b[1;32m     76\u001b[0m \u001b[0;34m\u001b[0m\u001b[0m\n",
            "\u001b[0;32m/usr/local/lib/python3.7/dist-packages/sympy/core/function.py\u001b[0m in \u001b[0;36m__new__\u001b[0;34m(cls, *args, **options)\u001b[0m\n\u001b[1;32m    471\u001b[0m \u001b[0;34m\u001b[0m\u001b[0m\n\u001b[1;32m    472\u001b[0m         \u001b[0mevaluate\u001b[0m \u001b[0;34m=\u001b[0m \u001b[0moptions\u001b[0m\u001b[0;34m.\u001b[0m\u001b[0mget\u001b[0m\u001b[0;34m(\u001b[0m\u001b[0;34m'evaluate'\u001b[0m\u001b[0;34m,\u001b[0m \u001b[0mglobal_parameters\u001b[0m\u001b[0;34m.\u001b[0m\u001b[0mevaluate\u001b[0m\u001b[0;34m)\u001b[0m\u001b[0;34m\u001b[0m\u001b[0;34m\u001b[0m\u001b[0m\n\u001b[0;32m--> 473\u001b[0;31m         \u001b[0mresult\u001b[0m \u001b[0;34m=\u001b[0m \u001b[0msuper\u001b[0m\u001b[0;34m(\u001b[0m\u001b[0;34m)\u001b[0m\u001b[0;34m.\u001b[0m\u001b[0m__new__\u001b[0m\u001b[0;34m(\u001b[0m\u001b[0mcls\u001b[0m\u001b[0;34m,\u001b[0m \u001b[0;34m*\u001b[0m\u001b[0margs\u001b[0m\u001b[0;34m,\u001b[0m \u001b[0;34m**\u001b[0m\u001b[0moptions\u001b[0m\u001b[0;34m)\u001b[0m\u001b[0;34m\u001b[0m\u001b[0;34m\u001b[0m\u001b[0m\n\u001b[0m\u001b[1;32m    474\u001b[0m         \u001b[0;32mif\u001b[0m \u001b[0mevaluate\u001b[0m \u001b[0;32mand\u001b[0m \u001b[0misinstance\u001b[0m\u001b[0;34m(\u001b[0m\u001b[0mresult\u001b[0m\u001b[0;34m,\u001b[0m \u001b[0mcls\u001b[0m\u001b[0;34m)\u001b[0m \u001b[0;32mand\u001b[0m \u001b[0mresult\u001b[0m\u001b[0;34m.\u001b[0m\u001b[0margs\u001b[0m\u001b[0;34m:\u001b[0m\u001b[0;34m\u001b[0m\u001b[0;34m\u001b[0m\u001b[0m\n\u001b[1;32m    475\u001b[0m             \u001b[0mpr2\u001b[0m \u001b[0;34m=\u001b[0m \u001b[0mmin\u001b[0m\u001b[0;34m(\u001b[0m\u001b[0mcls\u001b[0m\u001b[0;34m.\u001b[0m\u001b[0m_should_evalf\u001b[0m\u001b[0;34m(\u001b[0m\u001b[0ma\u001b[0m\u001b[0;34m)\u001b[0m \u001b[0;32mfor\u001b[0m \u001b[0ma\u001b[0m \u001b[0;32min\u001b[0m \u001b[0mresult\u001b[0m\u001b[0;34m.\u001b[0m\u001b[0margs\u001b[0m\u001b[0;34m)\u001b[0m\u001b[0;34m\u001b[0m\u001b[0;34m\u001b[0m\u001b[0m\n",
            "\u001b[0;32m/usr/local/lib/python3.7/dist-packages/sympy/core/cache.py\u001b[0m in \u001b[0;36mwrapper\u001b[0;34m(*args, **kwargs)\u001b[0m\n\u001b[1;32m     72\u001b[0m                 \u001b[0mretval\u001b[0m \u001b[0;34m=\u001b[0m \u001b[0mcfunc\u001b[0m\u001b[0;34m(\u001b[0m\u001b[0;34m*\u001b[0m\u001b[0margs\u001b[0m\u001b[0;34m,\u001b[0m \u001b[0;34m**\u001b[0m\u001b[0mkwargs\u001b[0m\u001b[0;34m)\u001b[0m\u001b[0;34m\u001b[0m\u001b[0;34m\u001b[0m\u001b[0m\n\u001b[1;32m     73\u001b[0m             \u001b[0;32mexcept\u001b[0m \u001b[0mTypeError\u001b[0m\u001b[0;34m:\u001b[0m\u001b[0;34m\u001b[0m\u001b[0;34m\u001b[0m\u001b[0m\n\u001b[0;32m---> 74\u001b[0;31m                 \u001b[0mretval\u001b[0m \u001b[0;34m=\u001b[0m \u001b[0mfunc\u001b[0m\u001b[0;34m(\u001b[0m\u001b[0;34m*\u001b[0m\u001b[0margs\u001b[0m\u001b[0;34m,\u001b[0m \u001b[0;34m**\u001b[0m\u001b[0mkwargs\u001b[0m\u001b[0;34m)\u001b[0m\u001b[0;34m\u001b[0m\u001b[0;34m\u001b[0m\u001b[0m\n\u001b[0m\u001b[1;32m     75\u001b[0m             \u001b[0;32mreturn\u001b[0m \u001b[0mretval\u001b[0m\u001b[0;34m\u001b[0m\u001b[0;34m\u001b[0m\u001b[0m\n\u001b[1;32m     76\u001b[0m \u001b[0;34m\u001b[0m\u001b[0m\n",
            "\u001b[0;32m/usr/local/lib/python3.7/dist-packages/sympy/core/function.py\u001b[0m in \u001b[0;36m__new__\u001b[0;34m(cls, *args, **options)\u001b[0m\n\u001b[1;32m    283\u001b[0m \u001b[0;34m\u001b[0m\u001b[0m\n\u001b[1;32m    284\u001b[0m         \u001b[0;32mif\u001b[0m \u001b[0mevaluate\u001b[0m\u001b[0;34m:\u001b[0m\u001b[0;34m\u001b[0m\u001b[0;34m\u001b[0m\u001b[0m\n\u001b[0;32m--> 285\u001b[0;31m             \u001b[0mevaluated\u001b[0m \u001b[0;34m=\u001b[0m \u001b[0mcls\u001b[0m\u001b[0;34m.\u001b[0m\u001b[0meval\u001b[0m\u001b[0;34m(\u001b[0m\u001b[0;34m*\u001b[0m\u001b[0margs\u001b[0m\u001b[0;34m)\u001b[0m\u001b[0;34m\u001b[0m\u001b[0;34m\u001b[0m\u001b[0m\n\u001b[0m\u001b[1;32m    286\u001b[0m             \u001b[0;32mif\u001b[0m \u001b[0mevaluated\u001b[0m \u001b[0;32mis\u001b[0m \u001b[0;32mnot\u001b[0m \u001b[0;32mNone\u001b[0m\u001b[0;34m:\u001b[0m\u001b[0;34m\u001b[0m\u001b[0;34m\u001b[0m\u001b[0m\n\u001b[1;32m    287\u001b[0m                 \u001b[0;32mreturn\u001b[0m \u001b[0mevaluated\u001b[0m\u001b[0;34m\u001b[0m\u001b[0;34m\u001b[0m\u001b[0m\n",
            "\u001b[0;32m/usr/local/lib/python3.7/dist-packages/sympy/functions/elementary/trigonometric.py\u001b[0m in \u001b[0;36meval\u001b[0;34m(cls, arg)\u001b[0m\n\u001b[1;32m    303\u001b[0m             \u001b[0;32mreturn\u001b[0m \u001b[0marg\u001b[0m\u001b[0;34m.\u001b[0m\u001b[0m_eval_func\u001b[0m\u001b[0;34m(\u001b[0m\u001b[0mcls\u001b[0m\u001b[0;34m)\u001b[0m\u001b[0;34m\u001b[0m\u001b[0;34m\u001b[0m\u001b[0m\n\u001b[1;32m    304\u001b[0m \u001b[0;34m\u001b[0m\u001b[0m\n\u001b[0;32m--> 305\u001b[0;31m         \u001b[0;32mif\u001b[0m \u001b[0marg\u001b[0m\u001b[0;34m.\u001b[0m\u001b[0mcould_extract_minus_sign\u001b[0m\u001b[0;34m(\u001b[0m\u001b[0;34m)\u001b[0m\u001b[0;34m:\u001b[0m\u001b[0;34m\u001b[0m\u001b[0;34m\u001b[0m\u001b[0m\n\u001b[0m\u001b[1;32m    306\u001b[0m             \u001b[0;32mreturn\u001b[0m \u001b[0;34m-\u001b[0m\u001b[0mcls\u001b[0m\u001b[0;34m(\u001b[0m\u001b[0;34m-\u001b[0m\u001b[0marg\u001b[0m\u001b[0;34m)\u001b[0m\u001b[0;34m\u001b[0m\u001b[0;34m\u001b[0m\u001b[0m\n\u001b[1;32m    307\u001b[0m \u001b[0;34m\u001b[0m\u001b[0m\n",
            "\u001b[0;31mAttributeError\u001b[0m: 'ImmutableDenseNDimArray' object has no attribute 'could_extract_minus_sign'"
          ]
        }
      ]
    },
    {
      "cell_type": "markdown",
      "source": [
        "**viết một đoạn chương trình lặp với vector mới được xây dựng sẵn tạm thời: **"
      ],
      "metadata": {
        "id": "c3nmAiw0RPHS"
      }
    },
    {
      "cell_type": "code",
      "source": [
        "from sympy import sin as sysin \n",
        "angles = np.linspace(0, np.pi/2, 5) \n",
        "sinangle = np.zeros(5) # tương đương >>> sinangle = np.array([0.0, 0.0, 0.0, 0.0, 0.0]) \n",
        "len(angles) # kiểm tra kích thước/số chiều của vector angles. \n",
        "for i in range(len(angles)): \n",
        " sinangle[i] = sysin(angles[i]) # lưu ý: ở đây phải enter 2 lần để thoát khỏi vòng for. \n",
        "sinangle "
      ],
      "metadata": {
        "colab": {
          "base_uri": "https://localhost:8080/"
        },
        "id": "lGKoHUB8RWJ8",
        "outputId": "b8d7bbc9-ef84-4de4-d1f1-0ddd56620159"
      },
      "execution_count": 46,
      "outputs": [
        {
          "output_type": "execute_result",
          "data": {
            "text/plain": [
              "array([0.        , 0.38268343, 0.70710678, 0.92387953, 1.        ])"
            ]
          },
          "metadata": {},
          "execution_count": 46
        }
      ]
    },
    {
      "cell_type": "markdown",
      "source": [
        "**Thực hành 5: Tính tổng các tích giữa ma trận và vector. Giả định gói thư viện numpy được đưa vào hệ thống có tên là np. Dạng:**"
      ],
      "metadata": {
        "id": "TCzy8bzVRjTz"
      }
    },
    {
      "cell_type": "code",
      "source": [
        "import numpy as np \n",
        "goc = np.pi/3 \n",
        "A = np.array([ [np.cos(goc), -np.sin(goc)], \n",
        "             [np.sin(goc), np.cos(goc)] ]) \n",
        "V = np.array([1. , 0. ]) \n",
        "Y = np.dot(A, V) \n",
        "Y"
      ],
      "metadata": {
        "colab": {
          "base_uri": "https://localhost:8080/"
        },
        "id": "bqoDE7OsRlv2",
        "outputId": "e86cf651-c6bb-47fd-968c-c8e9c443041c"
      },
      "execution_count": 47,
      "outputs": [
        {
          "output_type": "execute_result",
          "data": {
            "text/plain": [
              "array([0.5      , 0.8660254])"
            ]
          },
          "metadata": {},
          "execution_count": 47
        }
      ]
    },
    {
      "cell_type": "markdown",
      "source": [
        "Lưu ý 1: Tích ma trận với vector hoặc ma trận cần lưu ý đến thứ tự. \n",
        "* Lưu ý 2: Không nên sử dụng dấu * thay cho phép toán dot. Vì dấu * sẽ tính toán tích tại từng \n",
        "phần tử (elementwise) của mảng/ma trận thay cho phép nhân ma trận được định nghĩa trong toán \n",
        "học. \n",
        "* Lưu ý 3: Một số dạng toán học và lệnh tương ứng trong Python \n",
        "- Tích vector - vector: \u001a = ∑\u001d \u001c\u001d\u001e\u001d\n",
        " ↔ \u001a = \u0011\u0012. \u0014\u0015\u0016(\u001c, \u001e). \n",
        "- Tích ma trận – ma trận: \u001f\u001d = ∑\"!\u001d\"#\" ↔ \u001a = \u0011\u0012. \u0014\u0015\u0016(!, #). \n",
        "- Tích vector - ma trận: \u001e = ∑\u001d \u001c\u001d!\u001d ↔ \u001e = \u0011\u0012. \u0014\u0015\u0016(\u001c, !)."
      ],
      "metadata": {
        "id": "sWJeqHr9RyIk"
      }
    },
    {
      "cell_type": "markdown",
      "source": [
        "**Thực hành 6: Tính toán đạo hàm trên 1 vector dữ liệu **"
      ],
      "metadata": {
        "id": "zRhmI1o7R7Ue"
      }
    },
    {
      "cell_type": "markdown",
      "source": [
        "#Trường hợp dx cố định: "
      ],
      "metadata": {
        "id": "L1xPfH9rR-vc"
      }
    },
    {
      "cell_type": "code",
      "source": [
        "from numpy import diff \n",
        "dx = 0.1 \n",
        "y = [1, 2, 3, 4, 4, 5, 6] \n",
        "dy = diff(y)/dx \n",
        "dy"
      ],
      "metadata": {
        "colab": {
          "base_uri": "https://localhost:8080/"
        },
        "id": "Rx4hl-yhRzm0",
        "outputId": "ea1a9302-805c-4b97-c4bf-f772d60becff"
      },
      "execution_count": 48,
      "outputs": [
        {
          "output_type": "execute_result",
          "data": {
            "text/plain": [
              "array([10., 10., 10.,  0., 10., 10.])"
            ]
          },
          "metadata": {},
          "execution_count": 48
        }
      ]
    },
    {
      "cell_type": "code",
      "source": [
        "z = np.array([1, 2, 3, 4, 4, 5, 6]) \n",
        "dz = diff(z)/dx \n",
        "dz "
      ],
      "metadata": {
        "colab": {
          "base_uri": "https://localhost:8080/"
        },
        "id": "SMMJCH4ZSG21",
        "outputId": "b14303ff-7bc6-42c2-a583-ad642f19f9a0"
      },
      "execution_count": 49,
      "outputs": [
        {
          "output_type": "execute_result",
          "data": {
            "text/plain": [
              "array([10., 10., 10.,  0., 10., 10.])"
            ]
          },
          "metadata": {},
          "execution_count": 49
        }
      ]
    },
    {
      "cell_type": "markdown",
      "source": [
        " #Trường hợp dx là một dãy số:"
      ],
      "metadata": {
        "id": "oqaCfJbXSSWv"
      }
    },
    {
      "cell_type": "code",
      "source": [
        "from numpy import diff \n",
        "x = [.1, .2, .5, .6, .7, .8, .9] \n",
        "y = [1, 2, 3, 4, 4, 5, 6] \n",
        "dydx = diff(y)/diff(x) \n",
        "print (dydx)"
      ],
      "metadata": {
        "colab": {
          "base_uri": "https://localhost:8080/"
        },
        "id": "RNh7Uj47SUgi",
        "outputId": "f258ace5-733f-4e07-f260-69fbd78257a9"
      },
      "execution_count": 50,
      "outputs": [
        {
          "output_type": "stream",
          "name": "stdout",
          "text": [
            "[10.          3.33333333 10.          0.         10.         10.        ]\n"
          ]
        }
      ]
    },
    {
      "cell_type": "markdown",
      "source": [
        "#**Thực hành 7: Một số hàm xử lý phẳng (không gian Euclide) **\n"
      ],
      "metadata": {
        "id": "MOse5bVCSSS3"
      }
    },
    {
      "cell_type": "code",
      "source": [
        "from sympy.geometry import * "
      ],
      "metadata": {
        "id": "0HHC7IbsSmDq"
      },
      "execution_count": 51,
      "outputs": []
    },
    {
      "cell_type": "markdown",
      "source": [
        "# Tạo các điểm P1, P2, P3 và P4 "
      ],
      "metadata": {
        "id": "f47QeMDMSolq"
      }
    },
    {
      "cell_type": "code",
      "source": [
        "P1 = Point(0, 0) \n",
        "P2 = Point(3, 4) \n",
        "P3 = Point(2, -1) \n",
        "P4 = Point(-1, 5)"
      ],
      "metadata": {
        "id": "7x-b529CSqjX"
      },
      "execution_count": 52,
      "outputs": []
    },
    {
      "cell_type": "markdown",
      "source": [
        "# Tạo 2 đoạn đường S1 và S2: "
      ],
      "metadata": {
        "id": "LUmpKWwAT9FH"
      }
    },
    {
      "cell_type": "code",
      "source": [
        "S1 = Segment(P1, P2) \n",
        "S2 = Segment(P3, P4) "
      ],
      "metadata": {
        "id": "uYGzBScmT9og"
      },
      "execution_count": 54,
      "outputs": []
    },
    {
      "cell_type": "markdown",
      "source": [
        "#Kiểm 3 điểm thẳng hàng: "
      ],
      "metadata": {
        "id": "FeGm06vGUEMf"
      }
    },
    {
      "cell_type": "code",
      "source": [
        "Point.is_collinear(P1, P2, P3)"
      ],
      "metadata": {
        "colab": {
          "base_uri": "https://localhost:8080/"
        },
        "id": "EgXJ_WhvUFtM",
        "outputId": "cbab1eb3-5c06-438f-90ab-db26e79bd584"
      },
      "execution_count": 55,
      "outputs": [
        {
          "output_type": "execute_result",
          "data": {
            "text/plain": [
              "False"
            ]
          },
          "metadata": {},
          "execution_count": 55
        }
      ]
    },
    {
      "cell_type": "markdown",
      "source": [
        "Độ dài của đoạn đường S1 "
      ],
      "metadata": {
        "id": "yOdaxOYGUJgp"
      }
    },
    {
      "cell_type": "code",
      "source": [
        "S1.length"
      ],
      "metadata": {
        "colab": {
          "base_uri": "https://localhost:8080/",
          "height": 38
        },
        "id": "8wJANtbIUH_A",
        "outputId": "f907be77-2f31-4dc7-9d78-36b631ce9b2c"
      },
      "execution_count": 56,
      "outputs": [
        {
          "output_type": "execute_result",
          "data": {
            "text/latex": "$\\displaystyle 5$",
            "text/plain": [
              "5"
            ]
          },
          "metadata": {},
          "execution_count": 56
        }
      ]
    },
    {
      "cell_type": "markdown",
      "source": [
        " #Lấy trung điểm của đoạn 2: "
      ],
      "metadata": {
        "id": "a_tLS7Y6UNg-"
      }
    },
    {
      "cell_type": "code",
      "source": [
        "S2.midpoint"
      ],
      "metadata": {
        "colab": {
          "base_uri": "https://localhost:8080/",
          "height": 58
        },
        "id": "KBnF202DULJr",
        "outputId": "faa98d34-ad79-4dbe-e4fe-f4b3312563de"
      },
      "execution_count": 57,
      "outputs": [
        {
          "output_type": "execute_result",
          "data": {
            "text/latex": "$\\displaystyle Point2D\\left(\\frac{1}{2}, 2\\right)$",
            "text/plain": [
              "Point2D(1/2, 2)"
            ]
          },
          "metadata": {},
          "execution_count": 57
        }
      ]
    },
    {
      "cell_type": "markdown",
      "source": [
        "Tính độ dốc của đường S1"
      ],
      "metadata": {
        "id": "2PGzh60UUV_y"
      }
    },
    {
      "cell_type": "code",
      "source": [
        "S1.slope "
      ],
      "metadata": {
        "colab": {
          "base_uri": "https://localhost:8080/",
          "height": 51
        },
        "id": "AwwRpofXUWZE",
        "outputId": "615d8d6c-fac3-4e88-9723-1a599eb76d65"
      },
      "execution_count": 58,
      "outputs": [
        {
          "output_type": "execute_result",
          "data": {
            "text/latex": "$\\displaystyle \\frac{4}{3}$",
            "text/plain": [
              "4/3"
            ]
          },
          "metadata": {},
          "execution_count": 58
        }
      ]
    },
    {
      "cell_type": "markdown",
      "source": [
        "# Tìm vị trí giao nhau giữa hai đoạn đường"
      ],
      "metadata": {
        "id": "b6-pz9vCUaOS"
      }
    },
    {
      "cell_type": "code",
      "source": [
        "S1.intersection(S2) "
      ],
      "metadata": {
        "colab": {
          "base_uri": "https://localhost:8080/"
        },
        "id": "vEpVi35MUa3P",
        "outputId": "bfd94d33-0ef2-4e6b-c3d4-ca55c6e1d63d"
      },
      "execution_count": 59,
      "outputs": [
        {
          "output_type": "execute_result",
          "data": {
            "text/plain": [
              "[Point2D(9/10, 6/5)]"
            ]
          },
          "metadata": {},
          "execution_count": 59
        }
      ]
    },
    {
      "cell_type": "markdown",
      "source": [
        "# Góc giữa hai đoạn đường"
      ],
      "metadata": {
        "id": "1W8HlhTzUdZv"
      }
    },
    {
      "cell_type": "code",
      "source": [
        "Segment.angle_between(S1, S2) "
      ],
      "metadata": {
        "colab": {
          "base_uri": "https://localhost:8080/",
          "height": 68
        },
        "id": "GIRHvd_VUgQC",
        "outputId": "717640bb-a9c1-4884-a24b-90819f366596"
      },
      "execution_count": 60,
      "outputs": [
        {
          "output_type": "execute_result",
          "data": {
            "text/latex": "$\\displaystyle \\operatorname{acos}{\\left(\\frac{\\sqrt{5}}{5} \\right)}$",
            "text/plain": [
              "acos(sqrt(5)/5)"
            ]
          },
          "metadata": {},
          "execution_count": 60
        }
      ]
    },
    {
      "cell_type": "markdown",
      "source": [
        "# Kiểm đoạn đường S1 có chứa điểm P3 hay không?"
      ],
      "metadata": {
        "id": "h9bd_C2iUjBJ"
      }
    },
    {
      "cell_type": "code",
      "source": [
        " S1.contains(P3)"
      ],
      "metadata": {
        "colab": {
          "base_uri": "https://localhost:8080/"
        },
        "id": "wSQWvIfHUjjq",
        "outputId": "d4069b77-b02a-41cc-c034-b0af9bc5d23d"
      },
      "execution_count": 61,
      "outputs": [
        {
          "output_type": "execute_result",
          "data": {
            "text/plain": [
              "False"
            ]
          },
          "metadata": {},
          "execution_count": 61
        }
      ]
    },
    {
      "cell_type": "markdown",
      "source": [
        "# Lập và xem phương trình đường thẳng L1 đi qua 2 điểm P1 và P2:"
      ],
      "metadata": {
        "id": "6p7ZdyA6UmVN"
      }
    },
    {
      "cell_type": "code",
      "source": [
        "L1 = Line(P1, P2) \n",
        "L1.equation() "
      ],
      "metadata": {
        "colab": {
          "base_uri": "https://localhost:8080/",
          "height": 39
        },
        "id": "wSNqpK_NUnpu",
        "outputId": "1ab16f53-472d-45ac-e16d-f6374b181159"
      },
      "execution_count": 62,
      "outputs": [
        {
          "output_type": "execute_result",
          "data": {
            "text/latex": "$\\displaystyle - 4 x + 3 y$",
            "text/plain": [
              "-4*x + 3*y"
            ]
          },
          "metadata": {},
          "execution_count": 62
        }
      ]
    },
    {
      "cell_type": "markdown",
      "source": [
        "# Kiểm tính song song: "
      ],
      "metadata": {
        "id": "MQWHTLjYUqtE"
      }
    },
    {
      "cell_type": "code",
      "source": [
        "L1.is_parallel(S1)"
      ],
      "metadata": {
        "colab": {
          "base_uri": "https://localhost:8080/"
        },
        "id": "zktw1M-pUrcr",
        "outputId": "835b958e-2e49-4e60-f18c-f50251c08e09"
      },
      "execution_count": 63,
      "outputs": [
        {
          "output_type": "execute_result",
          "data": {
            "text/plain": [
              "True"
            ]
          },
          "metadata": {},
          "execution_count": 63
        }
      ]
    },
    {
      "cell_type": "code",
      "source": [
        "L1.is_parallel(S2)"
      ],
      "metadata": {
        "colab": {
          "base_uri": "https://localhost:8080/"
        },
        "id": "V4F8QxlmUvUY",
        "outputId": "597a270a-4cab-420a-8f63-f07bef7c6e19"
      },
      "execution_count": 64,
      "outputs": [
        {
          "output_type": "execute_result",
          "data": {
            "text/plain": [
              "False"
            ]
          },
          "metadata": {},
          "execution_count": 64
        }
      ]
    },
    {
      "cell_type": "markdown",
      "source": [
        "3. Ôn luyện giới hạn, đạo hàm và tích phân"
      ],
      "metadata": {
        "id": "p5frIQTTVBKq"
      }
    },
    {
      "cell_type": "markdown",
      "source": [
        "3.1. Giới hạn \n",
        "**Thực hành 8: Bằng phương pháp đồ thị, hãy cho biết giới hạn của hàm số sau**"
      ],
      "metadata": {
        "id": "tKggMSw2VBtm"
      }
    },
    {
      "cell_type": "markdown",
      "source": [
        "**Giải bằng Python:**"
      ],
      "metadata": {
        "id": "3Jj8Cl_JVI-p"
      }
    },
    {
      "cell_type": "code",
      "source": [
        "import sympy \n",
        "from sympy import * \n",
        "x = Symbol('x') \n",
        "f = x * sin(1/x) \n",
        "c = Symbol('c') \n",
        "delta = Symbol('delta') \n",
        "c = 0 \n",
        "delta = 1/4 \n",
        "sympy.plot(f,(x, c - delta, c + delta))"
      ],
      "metadata": {
        "colab": {
          "base_uri": "https://localhost:8080/",
          "height": 314
        },
        "id": "DNho4a3fVL9r",
        "outputId": "1cfe882d-8433-4c9b-fcb9-c660dc251a89"
      },
      "execution_count": 65,
      "outputs": [
        {
          "output_type": "display_data",
          "data": {
            "image/png": "[encoded data removed]",
            "text/plain": [
              "<Figure size 432x288 with 1 Axes>"
            ]
          },
          "metadata": {
            "needs_background": "light"
          }
        },
        {
          "output_type": "execute_result",
          "data": {
            "text/plain": [
              "<sympy.plotting.plot.Plot at 0x7f447a117090>"
            ]
          },
          "metadata": {},
          "execution_count": 65
        }
      ]
    },
    {
      "cell_type": "code",
      "source": [
        "sympy.plot(f, abs(x), -abs(x),(x, c-delta, c + delta))\n"
      ],
      "metadata": {
        "colab": {
          "base_uri": "https://localhost:8080/",
          "height": 314
        },
        "id": "nORmXchRVRYi",
        "outputId": "32afd0c8-a9f1-44b5-ba43-ee47af9990da"
      },
      "execution_count": 66,
      "outputs": [
        {
          "output_type": "display_data",
          "data": {
            "image/png": "[encoded data removed]",
            "text/plain": [
              "<Figure size 432x288 with 1 Axes>"
            ]
          },
          "metadata": {
            "needs_background": "light"
          }
        },
        {
          "output_type": "execute_result",
          "data": {
            "text/plain": [
              "<sympy.plotting.plot.Plot at 0x7f447a117410>"
            ]
          },
          "metadata": {},
          "execution_count": 66
        }
      ]
    },
    {
      "cell_type": "markdown",
      "source": [
        "**3.2. Đạo hàm**"
      ],
      "metadata": {
        "id": "X-okHwCYVdRn"
      }
    },
    {
      "cell_type": "markdown",
      "source": [
        "Nhắc lại về các bước giải bài toán tối ưu hóa\n",
        "1. Xác định các biến và các hằng số, vẽ đồ thị phù hợp, hiểu rõ cần tìm cực đại, cực tiểu \n",
        "của hàm nào. \n",
        "2. Viết công thức cho hàm muốn tìm cực đại, cực tiểu. \n",
        "3. Viết hàm phụ thuộc vào một biến duy nhất: =(\u0001)\n",
        "4. Tìm =′(\u0001) và giải =′(\u0001) = 0. Kiểm tra tất cả các giá trị tới hạn và điểm đầu mút để \n",
        "tìm cực trị."
      ],
      "metadata": {
        "id": "Uh26U8nGVhhz"
      }
    },
    {
      "cell_type": "markdown",
      "source": [
        "**Thực hành 9: Tìm giá trị cực đại của hàm**"
      ],
      "metadata": {
        "id": "FM09n25UViYp"
      }
    },
    {
      "cell_type": "code",
      "source": [
        "from sympy import Symbol, solve, Derivative \n",
        "x = Symbol('x') \n",
        "f = -x**2+4*x-3 \n",
        "d1=Derivative(f, x).doit() \n",
        "cuctri = solve(d1) \n",
        "cuctri \n",
        "A = cuctri[0] \n",
        "d2 = Derivative(d1, x).doit() \n",
        "d2.subs({x:A}).evalf() "
      ],
      "metadata": {
        "colab": {
          "base_uri": "https://localhost:8080/",
          "height": 38
        },
        "id": "dT7LVT8AVes0",
        "outputId": "c78fd5bd-f66c-4cc8-93ea-a5daa2a52146"
      },
      "execution_count": 69,
      "outputs": [
        {
          "output_type": "execute_result",
          "data": {
            "text/latex": "$\\displaystyle -2.0$",
            "text/plain": [
              "-2.00000000000000"
            ]
          },
          "metadata": {},
          "execution_count": 69
        }
      ]
    },
    {
      "cell_type": "code",
      "source": [
        "x_min=0 \n",
        "x_max=4 \n",
        "f.subs({x:A}).evalf() "
      ],
      "metadata": {
        "colab": {
          "base_uri": "https://localhost:8080/",
          "height": 38
        },
        "id": "cSVbzP8aV8rE",
        "outputId": "99d7ad53-b15b-4398-b4b4-95aa657e6d43"
      },
      "execution_count": 70,
      "outputs": [
        {
          "output_type": "execute_result",
          "data": {
            "text/latex": "$\\displaystyle 1.0$",
            "text/plain": [
              "1.00000000000000"
            ]
          },
          "metadata": {},
          "execution_count": 70
        }
      ]
    },
    {
      "cell_type": "code",
      "source": [
        "f.subs({x:x_min}).evalf() "
      ],
      "metadata": {
        "colab": {
          "base_uri": "https://localhost:8080/",
          "height": 38
        },
        "id": "kZ6maGE9WCie",
        "outputId": "2b3ddaf3-a612-4d0a-c594-5588c92ccfc8"
      },
      "execution_count": 71,
      "outputs": [
        {
          "output_type": "execute_result",
          "data": {
            "text/latex": "$\\displaystyle -3.0$",
            "text/plain": [
              "-3.00000000000000"
            ]
          },
          "metadata": {},
          "execution_count": 71
        }
      ]
    },
    {
      "cell_type": "code",
      "source": [
        "f.subs({x:x_max}).evalf() "
      ],
      "metadata": {
        "colab": {
          "base_uri": "https://localhost:8080/",
          "height": 38
        },
        "id": "Ye5RZbZjWEcM",
        "outputId": "cdc6f5f0-d177-460b-d29a-a54af99e2637"
      },
      "execution_count": 72,
      "outputs": [
        {
          "output_type": "execute_result",
          "data": {
            "text/latex": "$\\displaystyle -3.0$",
            "text/plain": [
              "-3.00000000000000"
            ]
          },
          "metadata": {},
          "execution_count": 72
        }
      ]
    },
    {
      "cell_type": "markdown",
      "source": [
        "**Thực hành 10: Tìm diện tích cực đại để lắp các tấm pin mặt trời trên một sân phẳng có hình parabol **"
      ],
      "metadata": {
        "id": "RoVMwzsvVdNR"
      }
    },
    {
      "cell_type": "code",
      "source": [
        ""
      ],
      "metadata": {
        "id": "KDkuBWs5WI-n"
      },
      "execution_count": null,
      "outputs": []
    }
  ]
}